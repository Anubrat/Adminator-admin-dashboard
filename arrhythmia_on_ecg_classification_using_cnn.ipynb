{
  "nbformat": 4,
  "nbformat_minor": 0,
  "metadata": {
    "kernelspec": {
      "display_name": "Python 3",
      "language": "python",
      "name": "python3"
    },
    "language_info": {
      "codemirror_mode": {
        "name": "ipython",
        "version": 3
      },
      "file_extension": ".py",
      "mimetype": "text/x-python",
      "name": "python",
      "nbconvert_exporter": "python",
      "pygments_lexer": "ipython3",
      "version": "3.8.5"
    },
    "colab": {
      "name": "arrhythmia-on-ecg-classification-using-cnn.ipynb",
      "provenance": [],
      "collapsed_sections": [],
      "toc_visible": true,
      "include_colab_link": true
    },
    "accelerator": "TPU"
  },
  "cells": [
    {
      "cell_type": "markdown",
      "metadata": {
        "id": "view-in-github",
        "colab_type": "text"
      },
      "source": [
        "<a href=\"https://colab.research.google.com/github/Anubrat/Adminator-admin-dashboard/blob/master/arrhythmia_on_ecg_classification_using_cnn.ipynb\" target=\"_parent\"><img src=\"https://colab.research.google.com/assets/colab-badge.svg\" alt=\"Open In Colab\"/></a>"
      ]
    },
    {
      "cell_type": "markdown",
      "metadata": {
        "id": "DbpZDqi1bnWW"
      },
      "source": [
        "Data Analaysis and Machine Learning Model in Electrocardiography based on Internet of Medical Things (IOMT)"
      ]
    },
    {
      "cell_type": "markdown",
      "metadata": {
        "id": "gD-aLx4ubnWq"
      },
      "source": [
        "**What is an ecg? **"
      ]
    },
    {
      "cell_type": "markdown",
      "metadata": {
        "id": "l6fU3AY-bnWs"
      },
      "source": [
        "An electrocardiogram (ECG) is a simple test that can be used to check your heart's rhythm and electrical activity.\n",
        "\n",
        "Sensors attached to the skin are used to detect the electrical signals produced by your heart each time it beats.\n",
        "\n",
        "These signals are recorded by a machine and are looked at by a doctor to see if they're unusual.\n",
        "\n",
        "An ECG may be requested by a heart specialist (cardiologist) or any doctor who thinks you might have a problem with your heart, including your GP.\n",
        "That's the result of this test we will analyze. "
      ]
    },
    {
      "cell_type": "markdown",
      "metadata": {
        "id": "8UOhvfIEbnWt"
      },
      "source": [
        "https://physionet.org/content/mitdb/1.0.0/\n",
        "Arrhythmia Dataset\n",
        "    Number of Samples: 109446\n",
        "    Number of Categories: 5\n",
        "    Sampling Frequency: 125Hz\n",
        "    Data Source: Physionet's MIT-BIH Arrhythmia Dataset\n",
        "    \n",
        "    Classes: ['N': 0, 'S': 1, 'V': 2, 'F': 3, 'Q': 4]\n",
        "-N : Non-ecotic beats (normal beat)\n",
        "-S : Supraventricular ectopic beats\n",
        "-V : Ventricular ectopic beats\n",
        "-F : Fusion Beats\n",
        "-Q : Unknown Beats"
      ]
    },
    {
      "cell_type": "markdown",
      "metadata": {
        "id": "G9u4qUxIbnWu"
      },
      "source": [
        "**Load Data**"
      ]
    },
    {
      "cell_type": "code",
      "metadata": {
        "_cell_guid": "b1076dfc-b9ad-4769-8c92-a6c4dae69d19",
        "_uuid": "8f2839f25d086af736a60e9eeb907d3b93b6e0e5",
        "id": "vB9uyH0kbnWv"
      },
      "source": [
        "import os\n",
        "for dirname, _, filenames in os.walk('/kaggle/input'):\n",
        "    for filename in filenames:\n",
        "        print(os.path.join(dirname, filename))\n",
        "\n",
        "# Any results you write to the current directory are saved as output."
      ],
      "execution_count": 1,
      "outputs": []
    },
    {
      "cell_type": "code",
      "metadata": {
        "_cell_guid": "79c7e3d0-c299-4dcb-8224-4455121ee9b0",
        "_uuid": "d629ff2d2480ee46fbb7e2d37f6b5fab8052498a",
        "id": "GRuZ9dFMbnWw"
      },
      "source": [
        "import numpy as np\n",
        "import pandas as pd\n",
        "import seaborn as sns\n",
        "import matplotlib.pyplot as plt\n",
        "from sklearn.metrics import classification_report\n",
        "from sklearn.model_selection import train_test_split\n",
        "from sklearn.metrics import f1_score\n",
        "from sklearn.metrics import confusion_matrix\n",
        "from keras.utils.np_utils import to_categorical\n",
        "from sklearn.utils import class_weight\n",
        "import warnings\n",
        "warnings.filterwarnings('ignore')"
      ],
      "execution_count": 2,
      "outputs": []
    },
    {
      "cell_type": "code",
      "metadata": {
        "id": "xMMMgbDQbqh8"
      },
      "source": [
        "!pip install -U -q PyDrive\n",
        "from pydrive.auth import GoogleAuth\n",
        "from pydrive.drive import GoogleDrive\n",
        "from google.colab import auth\n",
        "from oauth2client.client import GoogleCredentials\n",
        "# Authenticate and create the PyDrive client.\n",
        "auth.authenticate_user()\n",
        "gauth = GoogleAuth()\n",
        "gauth.credentials = GoogleCredentials.get_application_default()\n",
        "drive = GoogleDrive(gauth)"
      ],
      "execution_count": 3,
      "outputs": []
    },
    {
      "cell_type": "code",
      "metadata": {
        "id": "rNwfyQGZbw9f",
        "colab": {
          "base_uri": "https://localhost:8080/"
        },
        "outputId": "82a82a64-5a88-4110-a02c-82515b60c33c"
      },
      "source": [
        "from google.colab import drive\n",
        "drive.mount('/content/drive')"
      ],
      "execution_count": 4,
      "outputs": [
        {
          "output_type": "stream",
          "text": [
            "Mounted at /content/drive\n"
          ],
          "name": "stdout"
        }
      ]
    },
    {
      "cell_type": "code",
      "metadata": {
        "id": "a1H6FYBabnWw"
      },
      "source": [
        "train_df=pd.read_csv('/content/drive/MyDrive/Colab Notebooks/mitbih_train.csv',header=None)\n",
        "test_df=pd.read_csv('/content/drive/MyDrive/Colab Notebooks/mitbih_test.csv',header=None)"
      ],
      "execution_count": 5,
      "outputs": []
    },
    {
      "cell_type": "code",
      "metadata": {
        "id": "x6BkFQuTbnWx"
      },
      "source": [
        ""
      ],
      "execution_count": 5,
      "outputs": []
    },
    {
      "cell_type": "markdown",
      "metadata": {
        "id": "2cYWoK_BbnWx"
      },
      "source": [
        "**Balance of dataset**"
      ]
    },
    {
      "cell_type": "code",
      "metadata": {
        "id": "1KbhiwEXbnWy",
        "colab": {
          "base_uri": "https://localhost:8080/",
          "height": 253
        },
        "outputId": "29939631-aa4b-4558-9e7e-000d803a18b1"
      },
      "source": [
        "train_df.head()"
      ],
      "execution_count": 6,
      "outputs": [
        {
          "output_type": "execute_result",
          "data": {
            "text/html": [
              "<div>\n",
              "<style scoped>\n",
              "    .dataframe tbody tr th:only-of-type {\n",
              "        vertical-align: middle;\n",
              "    }\n",
              "\n",
              "    .dataframe tbody tr th {\n",
              "        vertical-align: top;\n",
              "    }\n",
              "\n",
              "    .dataframe thead th {\n",
              "        text-align: right;\n",
              "    }\n",
              "</style>\n",
              "<table border=\"1\" class=\"dataframe\">\n",
              "  <thead>\n",
              "    <tr style=\"text-align: right;\">\n",
              "      <th></th>\n",
              "      <th>0</th>\n",
              "      <th>1</th>\n",
              "      <th>2</th>\n",
              "      <th>3</th>\n",
              "      <th>4</th>\n",
              "      <th>5</th>\n",
              "      <th>6</th>\n",
              "      <th>7</th>\n",
              "      <th>8</th>\n",
              "      <th>9</th>\n",
              "      <th>10</th>\n",
              "      <th>11</th>\n",
              "      <th>12</th>\n",
              "      <th>13</th>\n",
              "      <th>14</th>\n",
              "      <th>15</th>\n",
              "      <th>16</th>\n",
              "      <th>17</th>\n",
              "      <th>18</th>\n",
              "      <th>19</th>\n",
              "      <th>20</th>\n",
              "      <th>21</th>\n",
              "      <th>22</th>\n",
              "      <th>23</th>\n",
              "      <th>24</th>\n",
              "      <th>25</th>\n",
              "      <th>26</th>\n",
              "      <th>27</th>\n",
              "      <th>28</th>\n",
              "      <th>29</th>\n",
              "      <th>30</th>\n",
              "      <th>31</th>\n",
              "      <th>32</th>\n",
              "      <th>33</th>\n",
              "      <th>34</th>\n",
              "      <th>35</th>\n",
              "      <th>36</th>\n",
              "      <th>37</th>\n",
              "      <th>38</th>\n",
              "      <th>39</th>\n",
              "      <th>...</th>\n",
              "      <th>148</th>\n",
              "      <th>149</th>\n",
              "      <th>150</th>\n",
              "      <th>151</th>\n",
              "      <th>152</th>\n",
              "      <th>153</th>\n",
              "      <th>154</th>\n",
              "      <th>155</th>\n",
              "      <th>156</th>\n",
              "      <th>157</th>\n",
              "      <th>158</th>\n",
              "      <th>159</th>\n",
              "      <th>160</th>\n",
              "      <th>161</th>\n",
              "      <th>162</th>\n",
              "      <th>163</th>\n",
              "      <th>164</th>\n",
              "      <th>165</th>\n",
              "      <th>166</th>\n",
              "      <th>167</th>\n",
              "      <th>168</th>\n",
              "      <th>169</th>\n",
              "      <th>170</th>\n",
              "      <th>171</th>\n",
              "      <th>172</th>\n",
              "      <th>173</th>\n",
              "      <th>174</th>\n",
              "      <th>175</th>\n",
              "      <th>176</th>\n",
              "      <th>177</th>\n",
              "      <th>178</th>\n",
              "      <th>179</th>\n",
              "      <th>180</th>\n",
              "      <th>181</th>\n",
              "      <th>182</th>\n",
              "      <th>183</th>\n",
              "      <th>184</th>\n",
              "      <th>185</th>\n",
              "      <th>186</th>\n",
              "      <th>187</th>\n",
              "    </tr>\n",
              "  </thead>\n",
              "  <tbody>\n",
              "    <tr>\n",
              "      <th>0</th>\n",
              "      <td>0.977941</td>\n",
              "      <td>0.926471</td>\n",
              "      <td>0.681373</td>\n",
              "      <td>0.245098</td>\n",
              "      <td>0.154412</td>\n",
              "      <td>0.191176</td>\n",
              "      <td>0.151961</td>\n",
              "      <td>0.085784</td>\n",
              "      <td>0.058824</td>\n",
              "      <td>0.049020</td>\n",
              "      <td>0.044118</td>\n",
              "      <td>0.061275</td>\n",
              "      <td>0.066176</td>\n",
              "      <td>0.061275</td>\n",
              "      <td>0.049020</td>\n",
              "      <td>0.073529</td>\n",
              "      <td>0.061275</td>\n",
              "      <td>0.061275</td>\n",
              "      <td>0.066176</td>\n",
              "      <td>0.068627</td>\n",
              "      <td>0.095588</td>\n",
              "      <td>0.075980</td>\n",
              "      <td>0.093137</td>\n",
              "      <td>0.105392</td>\n",
              "      <td>0.115196</td>\n",
              "      <td>0.102941</td>\n",
              "      <td>0.117647</td>\n",
              "      <td>0.125000</td>\n",
              "      <td>0.142157</td>\n",
              "      <td>0.127451</td>\n",
              "      <td>0.151961</td>\n",
              "      <td>0.144608</td>\n",
              "      <td>0.164216</td>\n",
              "      <td>0.144608</td>\n",
              "      <td>0.159314</td>\n",
              "      <td>0.151961</td>\n",
              "      <td>0.154412</td>\n",
              "      <td>0.142157</td>\n",
              "      <td>0.151961</td>\n",
              "      <td>0.151961</td>\n",
              "      <td>...</td>\n",
              "      <td>0.0</td>\n",
              "      <td>0.0</td>\n",
              "      <td>0.0</td>\n",
              "      <td>0.0</td>\n",
              "      <td>0.0</td>\n",
              "      <td>0.0</td>\n",
              "      <td>0.0</td>\n",
              "      <td>0.0</td>\n",
              "      <td>0.0</td>\n",
              "      <td>0.0</td>\n",
              "      <td>0.0</td>\n",
              "      <td>0.0</td>\n",
              "      <td>0.0</td>\n",
              "      <td>0.0</td>\n",
              "      <td>0.0</td>\n",
              "      <td>0.0</td>\n",
              "      <td>0.0</td>\n",
              "      <td>0.0</td>\n",
              "      <td>0.0</td>\n",
              "      <td>0.0</td>\n",
              "      <td>0.0</td>\n",
              "      <td>0.0</td>\n",
              "      <td>0.0</td>\n",
              "      <td>0.0</td>\n",
              "      <td>0.0</td>\n",
              "      <td>0.0</td>\n",
              "      <td>0.0</td>\n",
              "      <td>0.0</td>\n",
              "      <td>0.0</td>\n",
              "      <td>0.0</td>\n",
              "      <td>0.0</td>\n",
              "      <td>0.0</td>\n",
              "      <td>0.0</td>\n",
              "      <td>0.0</td>\n",
              "      <td>0.0</td>\n",
              "      <td>0.0</td>\n",
              "      <td>0.0</td>\n",
              "      <td>0.0</td>\n",
              "      <td>0.0</td>\n",
              "      <td>0.0</td>\n",
              "    </tr>\n",
              "    <tr>\n",
              "      <th>1</th>\n",
              "      <td>0.960114</td>\n",
              "      <td>0.863248</td>\n",
              "      <td>0.461538</td>\n",
              "      <td>0.196581</td>\n",
              "      <td>0.094017</td>\n",
              "      <td>0.125356</td>\n",
              "      <td>0.099715</td>\n",
              "      <td>0.088319</td>\n",
              "      <td>0.074074</td>\n",
              "      <td>0.082621</td>\n",
              "      <td>0.074074</td>\n",
              "      <td>0.062678</td>\n",
              "      <td>0.065527</td>\n",
              "      <td>0.065527</td>\n",
              "      <td>0.062678</td>\n",
              "      <td>0.076923</td>\n",
              "      <td>0.071225</td>\n",
              "      <td>0.082621</td>\n",
              "      <td>0.091168</td>\n",
              "      <td>0.096866</td>\n",
              "      <td>0.082621</td>\n",
              "      <td>0.082621</td>\n",
              "      <td>0.091168</td>\n",
              "      <td>0.105413</td>\n",
              "      <td>0.122507</td>\n",
              "      <td>0.148148</td>\n",
              "      <td>0.182336</td>\n",
              "      <td>0.193732</td>\n",
              "      <td>0.213675</td>\n",
              "      <td>0.207977</td>\n",
              "      <td>0.222222</td>\n",
              "      <td>0.253561</td>\n",
              "      <td>0.270655</td>\n",
              "      <td>0.287749</td>\n",
              "      <td>0.284900</td>\n",
              "      <td>0.293447</td>\n",
              "      <td>0.256410</td>\n",
              "      <td>0.247863</td>\n",
              "      <td>0.188034</td>\n",
              "      <td>0.145299</td>\n",
              "      <td>...</td>\n",
              "      <td>0.0</td>\n",
              "      <td>0.0</td>\n",
              "      <td>0.0</td>\n",
              "      <td>0.0</td>\n",
              "      <td>0.0</td>\n",
              "      <td>0.0</td>\n",
              "      <td>0.0</td>\n",
              "      <td>0.0</td>\n",
              "      <td>0.0</td>\n",
              "      <td>0.0</td>\n",
              "      <td>0.0</td>\n",
              "      <td>0.0</td>\n",
              "      <td>0.0</td>\n",
              "      <td>0.0</td>\n",
              "      <td>0.0</td>\n",
              "      <td>0.0</td>\n",
              "      <td>0.0</td>\n",
              "      <td>0.0</td>\n",
              "      <td>0.0</td>\n",
              "      <td>0.0</td>\n",
              "      <td>0.0</td>\n",
              "      <td>0.0</td>\n",
              "      <td>0.0</td>\n",
              "      <td>0.0</td>\n",
              "      <td>0.0</td>\n",
              "      <td>0.0</td>\n",
              "      <td>0.0</td>\n",
              "      <td>0.0</td>\n",
              "      <td>0.0</td>\n",
              "      <td>0.0</td>\n",
              "      <td>0.0</td>\n",
              "      <td>0.0</td>\n",
              "      <td>0.0</td>\n",
              "      <td>0.0</td>\n",
              "      <td>0.0</td>\n",
              "      <td>0.0</td>\n",
              "      <td>0.0</td>\n",
              "      <td>0.0</td>\n",
              "      <td>0.0</td>\n",
              "      <td>0.0</td>\n",
              "    </tr>\n",
              "    <tr>\n",
              "      <th>2</th>\n",
              "      <td>1.000000</td>\n",
              "      <td>0.659459</td>\n",
              "      <td>0.186486</td>\n",
              "      <td>0.070270</td>\n",
              "      <td>0.070270</td>\n",
              "      <td>0.059459</td>\n",
              "      <td>0.056757</td>\n",
              "      <td>0.043243</td>\n",
              "      <td>0.054054</td>\n",
              "      <td>0.045946</td>\n",
              "      <td>0.056757</td>\n",
              "      <td>0.043243</td>\n",
              "      <td>0.067568</td>\n",
              "      <td>0.062162</td>\n",
              "      <td>0.078378</td>\n",
              "      <td>0.072973</td>\n",
              "      <td>0.086486</td>\n",
              "      <td>0.081081</td>\n",
              "      <td>0.108108</td>\n",
              "      <td>0.110811</td>\n",
              "      <td>0.135135</td>\n",
              "      <td>0.135135</td>\n",
              "      <td>0.170270</td>\n",
              "      <td>0.183784</td>\n",
              "      <td>0.216216</td>\n",
              "      <td>0.237838</td>\n",
              "      <td>0.270270</td>\n",
              "      <td>0.286486</td>\n",
              "      <td>0.316216</td>\n",
              "      <td>0.318919</td>\n",
              "      <td>0.332432</td>\n",
              "      <td>0.297297</td>\n",
              "      <td>0.267568</td>\n",
              "      <td>0.216216</td>\n",
              "      <td>0.189189</td>\n",
              "      <td>0.132432</td>\n",
              "      <td>0.118919</td>\n",
              "      <td>0.064865</td>\n",
              "      <td>0.064865</td>\n",
              "      <td>0.043243</td>\n",
              "      <td>...</td>\n",
              "      <td>0.0</td>\n",
              "      <td>0.0</td>\n",
              "      <td>0.0</td>\n",
              "      <td>0.0</td>\n",
              "      <td>0.0</td>\n",
              "      <td>0.0</td>\n",
              "      <td>0.0</td>\n",
              "      <td>0.0</td>\n",
              "      <td>0.0</td>\n",
              "      <td>0.0</td>\n",
              "      <td>0.0</td>\n",
              "      <td>0.0</td>\n",
              "      <td>0.0</td>\n",
              "      <td>0.0</td>\n",
              "      <td>0.0</td>\n",
              "      <td>0.0</td>\n",
              "      <td>0.0</td>\n",
              "      <td>0.0</td>\n",
              "      <td>0.0</td>\n",
              "      <td>0.0</td>\n",
              "      <td>0.0</td>\n",
              "      <td>0.0</td>\n",
              "      <td>0.0</td>\n",
              "      <td>0.0</td>\n",
              "      <td>0.0</td>\n",
              "      <td>0.0</td>\n",
              "      <td>0.0</td>\n",
              "      <td>0.0</td>\n",
              "      <td>0.0</td>\n",
              "      <td>0.0</td>\n",
              "      <td>0.0</td>\n",
              "      <td>0.0</td>\n",
              "      <td>0.0</td>\n",
              "      <td>0.0</td>\n",
              "      <td>0.0</td>\n",
              "      <td>0.0</td>\n",
              "      <td>0.0</td>\n",
              "      <td>0.0</td>\n",
              "      <td>0.0</td>\n",
              "      <td>0.0</td>\n",
              "    </tr>\n",
              "    <tr>\n",
              "      <th>3</th>\n",
              "      <td>0.925414</td>\n",
              "      <td>0.665746</td>\n",
              "      <td>0.541436</td>\n",
              "      <td>0.276243</td>\n",
              "      <td>0.196133</td>\n",
              "      <td>0.077348</td>\n",
              "      <td>0.071823</td>\n",
              "      <td>0.060773</td>\n",
              "      <td>0.066298</td>\n",
              "      <td>0.058011</td>\n",
              "      <td>0.063536</td>\n",
              "      <td>0.082873</td>\n",
              "      <td>0.085635</td>\n",
              "      <td>0.093923</td>\n",
              "      <td>0.113260</td>\n",
              "      <td>0.124309</td>\n",
              "      <td>0.140884</td>\n",
              "      <td>0.132597</td>\n",
              "      <td>0.140884</td>\n",
              "      <td>0.091160</td>\n",
              "      <td>0.085635</td>\n",
              "      <td>0.074586</td>\n",
              "      <td>0.071823</td>\n",
              "      <td>0.080110</td>\n",
              "      <td>0.096685</td>\n",
              "      <td>0.118785</td>\n",
              "      <td>0.138122</td>\n",
              "      <td>0.140884</td>\n",
              "      <td>0.138122</td>\n",
              "      <td>0.146409</td>\n",
              "      <td>0.110497</td>\n",
              "      <td>0.102210</td>\n",
              "      <td>0.060773</td>\n",
              "      <td>0.027624</td>\n",
              "      <td>0.038674</td>\n",
              "      <td>0.013812</td>\n",
              "      <td>0.011050</td>\n",
              "      <td>0.013812</td>\n",
              "      <td>0.033149</td>\n",
              "      <td>0.005525</td>\n",
              "      <td>...</td>\n",
              "      <td>0.0</td>\n",
              "      <td>0.0</td>\n",
              "      <td>0.0</td>\n",
              "      <td>0.0</td>\n",
              "      <td>0.0</td>\n",
              "      <td>0.0</td>\n",
              "      <td>0.0</td>\n",
              "      <td>0.0</td>\n",
              "      <td>0.0</td>\n",
              "      <td>0.0</td>\n",
              "      <td>0.0</td>\n",
              "      <td>0.0</td>\n",
              "      <td>0.0</td>\n",
              "      <td>0.0</td>\n",
              "      <td>0.0</td>\n",
              "      <td>0.0</td>\n",
              "      <td>0.0</td>\n",
              "      <td>0.0</td>\n",
              "      <td>0.0</td>\n",
              "      <td>0.0</td>\n",
              "      <td>0.0</td>\n",
              "      <td>0.0</td>\n",
              "      <td>0.0</td>\n",
              "      <td>0.0</td>\n",
              "      <td>0.0</td>\n",
              "      <td>0.0</td>\n",
              "      <td>0.0</td>\n",
              "      <td>0.0</td>\n",
              "      <td>0.0</td>\n",
              "      <td>0.0</td>\n",
              "      <td>0.0</td>\n",
              "      <td>0.0</td>\n",
              "      <td>0.0</td>\n",
              "      <td>0.0</td>\n",
              "      <td>0.0</td>\n",
              "      <td>0.0</td>\n",
              "      <td>0.0</td>\n",
              "      <td>0.0</td>\n",
              "      <td>0.0</td>\n",
              "      <td>0.0</td>\n",
              "    </tr>\n",
              "    <tr>\n",
              "      <th>4</th>\n",
              "      <td>0.967136</td>\n",
              "      <td>1.000000</td>\n",
              "      <td>0.830986</td>\n",
              "      <td>0.586854</td>\n",
              "      <td>0.356808</td>\n",
              "      <td>0.248826</td>\n",
              "      <td>0.145540</td>\n",
              "      <td>0.089202</td>\n",
              "      <td>0.117371</td>\n",
              "      <td>0.150235</td>\n",
              "      <td>0.131455</td>\n",
              "      <td>0.122066</td>\n",
              "      <td>0.140845</td>\n",
              "      <td>0.159624</td>\n",
              "      <td>0.150235</td>\n",
              "      <td>0.145540</td>\n",
              "      <td>0.136150</td>\n",
              "      <td>0.169014</td>\n",
              "      <td>0.178404</td>\n",
              "      <td>0.173709</td>\n",
              "      <td>0.183099</td>\n",
              "      <td>0.201878</td>\n",
              "      <td>0.187793</td>\n",
              "      <td>0.164319</td>\n",
              "      <td>0.187793</td>\n",
              "      <td>0.215962</td>\n",
              "      <td>0.215962</td>\n",
              "      <td>0.201878</td>\n",
              "      <td>0.211268</td>\n",
              "      <td>0.230047</td>\n",
              "      <td>0.215962</td>\n",
              "      <td>0.230047</td>\n",
              "      <td>0.239437</td>\n",
              "      <td>0.267606</td>\n",
              "      <td>0.253521</td>\n",
              "      <td>0.230047</td>\n",
              "      <td>0.220657</td>\n",
              "      <td>0.225352</td>\n",
              "      <td>0.211268</td>\n",
              "      <td>0.173709</td>\n",
              "      <td>...</td>\n",
              "      <td>0.0</td>\n",
              "      <td>0.0</td>\n",
              "      <td>0.0</td>\n",
              "      <td>0.0</td>\n",
              "      <td>0.0</td>\n",
              "      <td>0.0</td>\n",
              "      <td>0.0</td>\n",
              "      <td>0.0</td>\n",
              "      <td>0.0</td>\n",
              "      <td>0.0</td>\n",
              "      <td>0.0</td>\n",
              "      <td>0.0</td>\n",
              "      <td>0.0</td>\n",
              "      <td>0.0</td>\n",
              "      <td>0.0</td>\n",
              "      <td>0.0</td>\n",
              "      <td>0.0</td>\n",
              "      <td>0.0</td>\n",
              "      <td>0.0</td>\n",
              "      <td>0.0</td>\n",
              "      <td>0.0</td>\n",
              "      <td>0.0</td>\n",
              "      <td>0.0</td>\n",
              "      <td>0.0</td>\n",
              "      <td>0.0</td>\n",
              "      <td>0.0</td>\n",
              "      <td>0.0</td>\n",
              "      <td>0.0</td>\n",
              "      <td>0.0</td>\n",
              "      <td>0.0</td>\n",
              "      <td>0.0</td>\n",
              "      <td>0.0</td>\n",
              "      <td>0.0</td>\n",
              "      <td>0.0</td>\n",
              "      <td>0.0</td>\n",
              "      <td>0.0</td>\n",
              "      <td>0.0</td>\n",
              "      <td>0.0</td>\n",
              "      <td>0.0</td>\n",
              "      <td>0.0</td>\n",
              "    </tr>\n",
              "  </tbody>\n",
              "</table>\n",
              "<p>5 rows × 188 columns</p>\n",
              "</div>"
            ],
            "text/plain": [
              "        0         1         2         3         4    ...  183  184  185  186  187\n",
              "0  0.977941  0.926471  0.681373  0.245098  0.154412  ...  0.0  0.0  0.0  0.0  0.0\n",
              "1  0.960114  0.863248  0.461538  0.196581  0.094017  ...  0.0  0.0  0.0  0.0  0.0\n",
              "2  1.000000  0.659459  0.186486  0.070270  0.070270  ...  0.0  0.0  0.0  0.0  0.0\n",
              "3  0.925414  0.665746  0.541436  0.276243  0.196133  ...  0.0  0.0  0.0  0.0  0.0\n",
              "4  0.967136  1.000000  0.830986  0.586854  0.356808  ...  0.0  0.0  0.0  0.0  0.0\n",
              "\n",
              "[5 rows x 188 columns]"
            ]
          },
          "metadata": {
            "tags": []
          },
          "execution_count": 6
        }
      ]
    },
    {
      "cell_type": "code",
      "metadata": {
        "id": "-_8_aXPxbnW1",
        "colab": {
          "base_uri": "https://localhost:8080/"
        },
        "outputId": "2e22875a-9777-4866-f4f9-446b84cc541c"
      },
      "source": [
        "train_df[187]=train_df[187].astype(int)\n",
        "equilibre=train_df[187].value_counts()\n",
        "print(equilibre)"
      ],
      "execution_count": 7,
      "outputs": [
        {
          "output_type": "stream",
          "text": [
            "0    72471\n",
            "4     6431\n",
            "2     5788\n",
            "1     2223\n",
            "3      641\n",
            "Name: 187, dtype: int64\n"
          ],
          "name": "stdout"
        }
      ]
    },
    {
      "cell_type": "code",
      "metadata": {
        "id": "GtCR0VstbnW2",
        "colab": {
          "base_uri": "https://localhost:8080/",
          "height": 575
        },
        "outputId": "703fdf81-7943-4ecb-bc8d-8b7813108ce0"
      },
      "source": [
        "plt.figure(figsize=(20,10))\n",
        "my_circle=plt.Circle( (0,0), 0.7, color='white')\n",
        "plt.pie(equilibre, labels=['n','q','v','s','f'], colors=['red','green','blue','skyblue','orange'],autopct='%1.1f%%')\n",
        "p=plt.gcf()\n",
        "p.gca().add_artist(my_circle)\n",
        "plt.show()"
      ],
      "execution_count": 8,
      "outputs": [
        {
          "output_type": "display_data",
          "data": {
            "image/png": "[encoded data removed]",
            "text/plain": [
              "<Figure size 1440x720 with 1 Axes>"
            ]
          },
          "metadata": {
            "tags": []
          }
        }
      ]
    },
    {
      "cell_type": "markdown",
      "metadata": {
        "id": "URrWdeQ-bnW3"
      },
      "source": [
        "We can underligned a huge difference in the balanced of the classes. After some try i have decided to  choose the resample technique more than the class weights for the algorithms. "
      ]
    },
    {
      "cell_type": "code",
      "metadata": {
        "id": "RFGrEZf-bnW4"
      },
      "source": [
        "from sklearn.utils import resample\n",
        "df_1=train_df[train_df[187]==1]\n",
        "df_2=train_df[train_df[187]==2]\n",
        "df_3=train_df[train_df[187]==3]\n",
        "df_4=train_df[train_df[187]==4]\n",
        "df_0=(train_df[train_df[187]==0]).sample(n=20000,random_state=42)\n",
        "\n",
        "df_1_upsample=resample(df_1,replace=True,n_samples=20000,random_state=123)\n",
        "df_2_upsample=resample(df_2,replace=True,n_samples=20000,random_state=124)\n",
        "df_3_upsample=resample(df_3,replace=True,n_samples=20000,random_state=125)\n",
        "df_4_upsample=resample(df_4,replace=True,n_samples=20000,random_state=126)\n",
        "\n",
        "train_df=pd.concat([df_0,df_1_upsample,df_2_upsample,df_3_upsample,df_4_upsample])"
      ],
      "execution_count": 9,
      "outputs": []
    },
    {
      "cell_type": "code",
      "metadata": {
        "id": "v0zpTtNxbnW5",
        "colab": {
          "base_uri": "https://localhost:8080/"
        },
        "outputId": "568f3399-d224-4160-8f17-4a75488069ae"
      },
      "source": [
        "equilibre=train_df[187].value_counts()\n",
        "print(equilibre)"
      ],
      "execution_count": 10,
      "outputs": [
        {
          "output_type": "stream",
          "text": [
            "4    20000\n",
            "3    20000\n",
            "2    20000\n",
            "1    20000\n",
            "0    20000\n",
            "Name: 187, dtype: int64\n"
          ],
          "name": "stdout"
        }
      ]
    },
    {
      "cell_type": "code",
      "metadata": {
        "id": "dS_i31cgbnW6",
        "colab": {
          "base_uri": "https://localhost:8080/",
          "height": 575
        },
        "outputId": "a560e9ee-ebcb-4959-bd98-feb3b6f61a16"
      },
      "source": [
        "plt.figure(figsize=(20,10))\n",
        "my_circle=plt.Circle( (0,0), 0.7, color='white')\n",
        "plt.pie(equilibre, labels=['n','q','v','s','f'], colors=['red','green','blue','skyblue','orange'],autopct='%1.1f%%')\n",
        "p=plt.gcf()\n",
        "p.gca().add_artist(my_circle)\n",
        "plt.show()"
      ],
      "execution_count": 11,
      "outputs": [
        {
          "output_type": "display_data",
          "data": {
            "image/png": "[encoded data removed]",
            "text/plain": [
              "<Figure size 1440x720 with 1 Axes>"
            ]
          },
          "metadata": {
            "tags": []
          }
        }
      ]
    },
    {
      "cell_type": "markdown",
      "metadata": {
        "id": "CKdKHU6YbnW7"
      },
      "source": [
        "Resample works perfectly we can go on. "
      ]
    },
    {
      "cell_type": "markdown",
      "metadata": {
        "id": "Ct78Or8HbnW8"
      },
      "source": [
        "**Classes**"
      ]
    },
    {
      "cell_type": "markdown",
      "metadata": {
        "id": "_CBa3GIfbnW9"
      },
      "source": [
        "In this part i want to study the differente classes. "
      ]
    },
    {
      "cell_type": "code",
      "metadata": {
        "id": "vEle8hGGbnW9"
      },
      "source": [
        "c=train_df.groupby(187,group_keys=False).apply(lambda train_df : train_df.sample(1))"
      ],
      "execution_count": 12,
      "outputs": []
    },
    {
      "cell_type": "markdown",
      "metadata": {
        "id": "bMIRcJksbnW-"
      },
      "source": [
        "I take one sample per class and i store it in a datafrmae in order to have an example. "
      ]
    },
    {
      "cell_type": "code",
      "metadata": {
        "id": "KWcVB2q2bnW_",
        "colab": {
          "base_uri": "https://localhost:8080/",
          "height": 253
        },
        "outputId": "3a83b2ff-f87f-461d-d6dc-caf3fc6b514c"
      },
      "source": [
        "c"
      ],
      "execution_count": 13,
      "outputs": [
        {
          "output_type": "execute_result",
          "data": {
            "text/html": [
              "<div>\n",
              "<style scoped>\n",
              "    .dataframe tbody tr th:only-of-type {\n",
              "        vertical-align: middle;\n",
              "    }\n",
              "\n",
              "    .dataframe tbody tr th {\n",
              "        vertical-align: top;\n",
              "    }\n",
              "\n",
              "    .dataframe thead th {\n",
              "        text-align: right;\n",
              "    }\n",
              "</style>\n",
              "<table border=\"1\" class=\"dataframe\">\n",
              "  <thead>\n",
              "    <tr style=\"text-align: right;\">\n",
              "      <th></th>\n",
              "      <th>0</th>\n",
              "      <th>1</th>\n",
              "      <th>2</th>\n",
              "      <th>3</th>\n",
              "      <th>4</th>\n",
              "      <th>5</th>\n",
              "      <th>6</th>\n",
              "      <th>7</th>\n",
              "      <th>8</th>\n",
              "      <th>9</th>\n",
              "      <th>10</th>\n",
              "      <th>11</th>\n",
              "      <th>12</th>\n",
              "      <th>13</th>\n",
              "      <th>14</th>\n",
              "      <th>15</th>\n",
              "      <th>16</th>\n",
              "      <th>17</th>\n",
              "      <th>18</th>\n",
              "      <th>19</th>\n",
              "      <th>20</th>\n",
              "      <th>21</th>\n",
              "      <th>22</th>\n",
              "      <th>23</th>\n",
              "      <th>24</th>\n",
              "      <th>25</th>\n",
              "      <th>26</th>\n",
              "      <th>27</th>\n",
              "      <th>28</th>\n",
              "      <th>29</th>\n",
              "      <th>30</th>\n",
              "      <th>31</th>\n",
              "      <th>32</th>\n",
              "      <th>33</th>\n",
              "      <th>34</th>\n",
              "      <th>35</th>\n",
              "      <th>36</th>\n",
              "      <th>37</th>\n",
              "      <th>38</th>\n",
              "      <th>39</th>\n",
              "      <th>...</th>\n",
              "      <th>148</th>\n",
              "      <th>149</th>\n",
              "      <th>150</th>\n",
              "      <th>151</th>\n",
              "      <th>152</th>\n",
              "      <th>153</th>\n",
              "      <th>154</th>\n",
              "      <th>155</th>\n",
              "      <th>156</th>\n",
              "      <th>157</th>\n",
              "      <th>158</th>\n",
              "      <th>159</th>\n",
              "      <th>160</th>\n",
              "      <th>161</th>\n",
              "      <th>162</th>\n",
              "      <th>163</th>\n",
              "      <th>164</th>\n",
              "      <th>165</th>\n",
              "      <th>166</th>\n",
              "      <th>167</th>\n",
              "      <th>168</th>\n",
              "      <th>169</th>\n",
              "      <th>170</th>\n",
              "      <th>171</th>\n",
              "      <th>172</th>\n",
              "      <th>173</th>\n",
              "      <th>174</th>\n",
              "      <th>175</th>\n",
              "      <th>176</th>\n",
              "      <th>177</th>\n",
              "      <th>178</th>\n",
              "      <th>179</th>\n",
              "      <th>180</th>\n",
              "      <th>181</th>\n",
              "      <th>182</th>\n",
              "      <th>183</th>\n",
              "      <th>184</th>\n",
              "      <th>185</th>\n",
              "      <th>186</th>\n",
              "      <th>187</th>\n",
              "    </tr>\n",
              "  </thead>\n",
              "  <tbody>\n",
              "    <tr>\n",
              "      <th>21680</th>\n",
              "      <td>0.973770</td>\n",
              "      <td>0.521311</td>\n",
              "      <td>0.000000</td>\n",
              "      <td>0.016393</td>\n",
              "      <td>0.049180</td>\n",
              "      <td>0.072131</td>\n",
              "      <td>0.065574</td>\n",
              "      <td>0.078689</td>\n",
              "      <td>0.065574</td>\n",
              "      <td>0.078689</td>\n",
              "      <td>0.068852</td>\n",
              "      <td>0.078689</td>\n",
              "      <td>0.059016</td>\n",
              "      <td>0.081967</td>\n",
              "      <td>0.065574</td>\n",
              "      <td>0.075410</td>\n",
              "      <td>0.062295</td>\n",
              "      <td>0.085246</td>\n",
              "      <td>0.075410</td>\n",
              "      <td>0.091803</td>\n",
              "      <td>0.075410</td>\n",
              "      <td>0.091803</td>\n",
              "      <td>0.078689</td>\n",
              "      <td>0.091803</td>\n",
              "      <td>0.072131</td>\n",
              "      <td>0.085246</td>\n",
              "      <td>0.075410</td>\n",
              "      <td>0.088525</td>\n",
              "      <td>0.072131</td>\n",
              "      <td>0.081967</td>\n",
              "      <td>0.065574</td>\n",
              "      <td>0.072131</td>\n",
              "      <td>0.059016</td>\n",
              "      <td>0.068852</td>\n",
              "      <td>0.065574</td>\n",
              "      <td>0.095082</td>\n",
              "      <td>0.108197</td>\n",
              "      <td>0.150820</td>\n",
              "      <td>0.157377</td>\n",
              "      <td>0.180328</td>\n",
              "      <td>...</td>\n",
              "      <td>0.000000</td>\n",
              "      <td>0.000000</td>\n",
              "      <td>0.00</td>\n",
              "      <td>0.000000</td>\n",
              "      <td>0.00</td>\n",
              "      <td>0.00</td>\n",
              "      <td>0.000000</td>\n",
              "      <td>0.000000</td>\n",
              "      <td>0.000000</td>\n",
              "      <td>0.000000</td>\n",
              "      <td>0.000000</td>\n",
              "      <td>0.000000</td>\n",
              "      <td>0.000000</td>\n",
              "      <td>0.000000</td>\n",
              "      <td>0.000000</td>\n",
              "      <td>0.000000</td>\n",
              "      <td>0.000000</td>\n",
              "      <td>0.000000</td>\n",
              "      <td>0.000000</td>\n",
              "      <td>0.000000</td>\n",
              "      <td>0.000000</td>\n",
              "      <td>0.000000</td>\n",
              "      <td>0.000000</td>\n",
              "      <td>0.000000</td>\n",
              "      <td>0.000000</td>\n",
              "      <td>0.000000</td>\n",
              "      <td>0.000000</td>\n",
              "      <td>0.00</td>\n",
              "      <td>0.00</td>\n",
              "      <td>0.000000</td>\n",
              "      <td>0.000000</td>\n",
              "      <td>0.000000</td>\n",
              "      <td>0.000000</td>\n",
              "      <td>0.000000</td>\n",
              "      <td>0.000000</td>\n",
              "      <td>0.00</td>\n",
              "      <td>0.000000</td>\n",
              "      <td>0.000000</td>\n",
              "      <td>0.000000</td>\n",
              "      <td>0</td>\n",
              "    </tr>\n",
              "    <tr>\n",
              "      <th>72498</th>\n",
              "      <td>0.813433</td>\n",
              "      <td>0.720149</td>\n",
              "      <td>0.167910</td>\n",
              "      <td>0.000000</td>\n",
              "      <td>0.082090</td>\n",
              "      <td>0.145522</td>\n",
              "      <td>0.119403</td>\n",
              "      <td>0.175373</td>\n",
              "      <td>0.223881</td>\n",
              "      <td>0.197761</td>\n",
              "      <td>0.167910</td>\n",
              "      <td>0.194030</td>\n",
              "      <td>0.261194</td>\n",
              "      <td>0.309702</td>\n",
              "      <td>0.294776</td>\n",
              "      <td>0.291045</td>\n",
              "      <td>0.294776</td>\n",
              "      <td>0.309702</td>\n",
              "      <td>0.291045</td>\n",
              "      <td>0.291045</td>\n",
              "      <td>0.317164</td>\n",
              "      <td>0.313433</td>\n",
              "      <td>0.313433</td>\n",
              "      <td>0.313433</td>\n",
              "      <td>0.335821</td>\n",
              "      <td>0.347015</td>\n",
              "      <td>0.343284</td>\n",
              "      <td>0.354478</td>\n",
              "      <td>0.384328</td>\n",
              "      <td>0.406716</td>\n",
              "      <td>0.425373</td>\n",
              "      <td>0.447761</td>\n",
              "      <td>0.477612</td>\n",
              "      <td>0.488806</td>\n",
              "      <td>0.481343</td>\n",
              "      <td>0.500000</td>\n",
              "      <td>0.526119</td>\n",
              "      <td>0.514925</td>\n",
              "      <td>0.470149</td>\n",
              "      <td>0.444030</td>\n",
              "      <td>...</td>\n",
              "      <td>0.257463</td>\n",
              "      <td>0.257463</td>\n",
              "      <td>0.25</td>\n",
              "      <td>0.246269</td>\n",
              "      <td>0.25</td>\n",
              "      <td>0.25</td>\n",
              "      <td>0.223881</td>\n",
              "      <td>0.242537</td>\n",
              "      <td>0.242537</td>\n",
              "      <td>0.264925</td>\n",
              "      <td>0.223881</td>\n",
              "      <td>0.220149</td>\n",
              "      <td>0.261194</td>\n",
              "      <td>0.238806</td>\n",
              "      <td>0.223881</td>\n",
              "      <td>0.257463</td>\n",
              "      <td>0.257463</td>\n",
              "      <td>0.231343</td>\n",
              "      <td>0.235075</td>\n",
              "      <td>0.223881</td>\n",
              "      <td>0.235075</td>\n",
              "      <td>0.238806</td>\n",
              "      <td>0.227612</td>\n",
              "      <td>0.223881</td>\n",
              "      <td>0.235075</td>\n",
              "      <td>0.257463</td>\n",
              "      <td>0.276119</td>\n",
              "      <td>0.25</td>\n",
              "      <td>0.25</td>\n",
              "      <td>0.261194</td>\n",
              "      <td>0.272388</td>\n",
              "      <td>0.261194</td>\n",
              "      <td>0.261194</td>\n",
              "      <td>0.261194</td>\n",
              "      <td>0.246269</td>\n",
              "      <td>0.25</td>\n",
              "      <td>0.283582</td>\n",
              "      <td>0.272388</td>\n",
              "      <td>0.268657</td>\n",
              "      <td>1</td>\n",
              "    </tr>\n",
              "    <tr>\n",
              "      <th>74903</th>\n",
              "      <td>0.998824</td>\n",
              "      <td>1.000000</td>\n",
              "      <td>0.937647</td>\n",
              "      <td>0.895294</td>\n",
              "      <td>0.891765</td>\n",
              "      <td>0.811765</td>\n",
              "      <td>0.658824</td>\n",
              "      <td>0.422353</td>\n",
              "      <td>0.247059</td>\n",
              "      <td>0.247059</td>\n",
              "      <td>0.236471</td>\n",
              "      <td>0.197647</td>\n",
              "      <td>0.183529</td>\n",
              "      <td>0.180000</td>\n",
              "      <td>0.165882</td>\n",
              "      <td>0.154118</td>\n",
              "      <td>0.150588</td>\n",
              "      <td>0.141176</td>\n",
              "      <td>0.131765</td>\n",
              "      <td>0.116471</td>\n",
              "      <td>0.105882</td>\n",
              "      <td>0.098824</td>\n",
              "      <td>0.085882</td>\n",
              "      <td>0.060000</td>\n",
              "      <td>0.045882</td>\n",
              "      <td>0.040000</td>\n",
              "      <td>0.022353</td>\n",
              "      <td>0.011765</td>\n",
              "      <td>0.005882</td>\n",
              "      <td>0.000000</td>\n",
              "      <td>0.002353</td>\n",
              "      <td>0.004706</td>\n",
              "      <td>0.009412</td>\n",
              "      <td>0.008235</td>\n",
              "      <td>0.017647</td>\n",
              "      <td>0.018824</td>\n",
              "      <td>0.022353</td>\n",
              "      <td>0.045882</td>\n",
              "      <td>0.080000</td>\n",
              "      <td>0.111765</td>\n",
              "      <td>...</td>\n",
              "      <td>0.000000</td>\n",
              "      <td>0.000000</td>\n",
              "      <td>0.00</td>\n",
              "      <td>0.000000</td>\n",
              "      <td>0.00</td>\n",
              "      <td>0.00</td>\n",
              "      <td>0.000000</td>\n",
              "      <td>0.000000</td>\n",
              "      <td>0.000000</td>\n",
              "      <td>0.000000</td>\n",
              "      <td>0.000000</td>\n",
              "      <td>0.000000</td>\n",
              "      <td>0.000000</td>\n",
              "      <td>0.000000</td>\n",
              "      <td>0.000000</td>\n",
              "      <td>0.000000</td>\n",
              "      <td>0.000000</td>\n",
              "      <td>0.000000</td>\n",
              "      <td>0.000000</td>\n",
              "      <td>0.000000</td>\n",
              "      <td>0.000000</td>\n",
              "      <td>0.000000</td>\n",
              "      <td>0.000000</td>\n",
              "      <td>0.000000</td>\n",
              "      <td>0.000000</td>\n",
              "      <td>0.000000</td>\n",
              "      <td>0.000000</td>\n",
              "      <td>0.00</td>\n",
              "      <td>0.00</td>\n",
              "      <td>0.000000</td>\n",
              "      <td>0.000000</td>\n",
              "      <td>0.000000</td>\n",
              "      <td>0.000000</td>\n",
              "      <td>0.000000</td>\n",
              "      <td>0.000000</td>\n",
              "      <td>0.00</td>\n",
              "      <td>0.000000</td>\n",
              "      <td>0.000000</td>\n",
              "      <td>0.000000</td>\n",
              "      <td>2</td>\n",
              "    </tr>\n",
              "    <tr>\n",
              "      <th>81067</th>\n",
              "      <td>1.000000</td>\n",
              "      <td>0.947905</td>\n",
              "      <td>0.763307</td>\n",
              "      <td>0.457531</td>\n",
              "      <td>0.160815</td>\n",
              "      <td>0.135900</td>\n",
              "      <td>0.157418</td>\n",
              "      <td>0.121178</td>\n",
              "      <td>0.103058</td>\n",
              "      <td>0.087203</td>\n",
              "      <td>0.072480</td>\n",
              "      <td>0.066818</td>\n",
              "      <td>0.048698</td>\n",
              "      <td>0.030578</td>\n",
              "      <td>0.021518</td>\n",
              "      <td>0.014723</td>\n",
              "      <td>0.005663</td>\n",
              "      <td>0.000000</td>\n",
              "      <td>0.001133</td>\n",
              "      <td>0.012458</td>\n",
              "      <td>0.019253</td>\n",
              "      <td>0.029445</td>\n",
              "      <td>0.060023</td>\n",
              "      <td>0.082673</td>\n",
              "      <td>0.099660</td>\n",
              "      <td>0.129105</td>\n",
              "      <td>0.169875</td>\n",
              "      <td>0.210646</td>\n",
              "      <td>0.242356</td>\n",
              "      <td>0.262741</td>\n",
              "      <td>0.289921</td>\n",
              "      <td>0.304643</td>\n",
              "      <td>0.306908</td>\n",
              "      <td>0.319366</td>\n",
              "      <td>0.322763</td>\n",
              "      <td>0.321631</td>\n",
              "      <td>0.318233</td>\n",
              "      <td>0.309173</td>\n",
              "      <td>0.305776</td>\n",
              "      <td>0.305776</td>\n",
              "      <td>...</td>\n",
              "      <td>0.000000</td>\n",
              "      <td>0.000000</td>\n",
              "      <td>0.00</td>\n",
              "      <td>0.000000</td>\n",
              "      <td>0.00</td>\n",
              "      <td>0.00</td>\n",
              "      <td>0.000000</td>\n",
              "      <td>0.000000</td>\n",
              "      <td>0.000000</td>\n",
              "      <td>0.000000</td>\n",
              "      <td>0.000000</td>\n",
              "      <td>0.000000</td>\n",
              "      <td>0.000000</td>\n",
              "      <td>0.000000</td>\n",
              "      <td>0.000000</td>\n",
              "      <td>0.000000</td>\n",
              "      <td>0.000000</td>\n",
              "      <td>0.000000</td>\n",
              "      <td>0.000000</td>\n",
              "      <td>0.000000</td>\n",
              "      <td>0.000000</td>\n",
              "      <td>0.000000</td>\n",
              "      <td>0.000000</td>\n",
              "      <td>0.000000</td>\n",
              "      <td>0.000000</td>\n",
              "      <td>0.000000</td>\n",
              "      <td>0.000000</td>\n",
              "      <td>0.00</td>\n",
              "      <td>0.00</td>\n",
              "      <td>0.000000</td>\n",
              "      <td>0.000000</td>\n",
              "      <td>0.000000</td>\n",
              "      <td>0.000000</td>\n",
              "      <td>0.000000</td>\n",
              "      <td>0.000000</td>\n",
              "      <td>0.00</td>\n",
              "      <td>0.000000</td>\n",
              "      <td>0.000000</td>\n",
              "      <td>0.000000</td>\n",
              "      <td>3</td>\n",
              "    </tr>\n",
              "    <tr>\n",
              "      <th>86249</th>\n",
              "      <td>0.718850</td>\n",
              "      <td>0.587859</td>\n",
              "      <td>0.463259</td>\n",
              "      <td>0.308307</td>\n",
              "      <td>0.174121</td>\n",
              "      <td>0.073482</td>\n",
              "      <td>0.022364</td>\n",
              "      <td>0.000000</td>\n",
              "      <td>0.043131</td>\n",
              "      <td>0.107029</td>\n",
              "      <td>0.239617</td>\n",
              "      <td>0.337061</td>\n",
              "      <td>0.388179</td>\n",
              "      <td>0.445687</td>\n",
              "      <td>0.514377</td>\n",
              "      <td>0.570288</td>\n",
              "      <td>0.626198</td>\n",
              "      <td>0.654952</td>\n",
              "      <td>0.678914</td>\n",
              "      <td>0.686901</td>\n",
              "      <td>0.691693</td>\n",
              "      <td>0.701278</td>\n",
              "      <td>0.715655</td>\n",
              "      <td>0.715655</td>\n",
              "      <td>0.731629</td>\n",
              "      <td>0.734824</td>\n",
              "      <td>0.753994</td>\n",
              "      <td>0.763578</td>\n",
              "      <td>0.797125</td>\n",
              "      <td>0.800319</td>\n",
              "      <td>0.833866</td>\n",
              "      <td>0.846645</td>\n",
              "      <td>0.873802</td>\n",
              "      <td>0.888179</td>\n",
              "      <td>0.924920</td>\n",
              "      <td>0.934505</td>\n",
              "      <td>0.952077</td>\n",
              "      <td>0.953674</td>\n",
              "      <td>0.964856</td>\n",
              "      <td>0.958466</td>\n",
              "      <td>...</td>\n",
              "      <td>0.000000</td>\n",
              "      <td>0.000000</td>\n",
              "      <td>0.00</td>\n",
              "      <td>0.000000</td>\n",
              "      <td>0.00</td>\n",
              "      <td>0.00</td>\n",
              "      <td>0.000000</td>\n",
              "      <td>0.000000</td>\n",
              "      <td>0.000000</td>\n",
              "      <td>0.000000</td>\n",
              "      <td>0.000000</td>\n",
              "      <td>0.000000</td>\n",
              "      <td>0.000000</td>\n",
              "      <td>0.000000</td>\n",
              "      <td>0.000000</td>\n",
              "      <td>0.000000</td>\n",
              "      <td>0.000000</td>\n",
              "      <td>0.000000</td>\n",
              "      <td>0.000000</td>\n",
              "      <td>0.000000</td>\n",
              "      <td>0.000000</td>\n",
              "      <td>0.000000</td>\n",
              "      <td>0.000000</td>\n",
              "      <td>0.000000</td>\n",
              "      <td>0.000000</td>\n",
              "      <td>0.000000</td>\n",
              "      <td>0.000000</td>\n",
              "      <td>0.00</td>\n",
              "      <td>0.00</td>\n",
              "      <td>0.000000</td>\n",
              "      <td>0.000000</td>\n",
              "      <td>0.000000</td>\n",
              "      <td>0.000000</td>\n",
              "      <td>0.000000</td>\n",
              "      <td>0.000000</td>\n",
              "      <td>0.00</td>\n",
              "      <td>0.000000</td>\n",
              "      <td>0.000000</td>\n",
              "      <td>0.000000</td>\n",
              "      <td>4</td>\n",
              "    </tr>\n",
              "  </tbody>\n",
              "</table>\n",
              "<p>5 rows × 188 columns</p>\n",
              "</div>"
            ],
            "text/plain": [
              "            0         1         2    ...       185       186  187\n",
              "21680  0.973770  0.521311  0.000000  ...  0.000000  0.000000    0\n",
              "72498  0.813433  0.720149  0.167910  ...  0.272388  0.268657    1\n",
              "74903  0.998824  1.000000  0.937647  ...  0.000000  0.000000    2\n",
              "81067  1.000000  0.947905  0.763307  ...  0.000000  0.000000    3\n",
              "86249  0.718850  0.587859  0.463259  ...  0.000000  0.000000    4\n",
              "\n",
              "[5 rows x 188 columns]"
            ]
          },
          "metadata": {
            "tags": []
          },
          "execution_count": 13
        }
      ]
    },
    {
      "cell_type": "code",
      "metadata": {
        "id": "YIPtOTNJbnXA",
        "colab": {
          "base_uri": "https://localhost:8080/",
          "height": 282
        },
        "outputId": "074420be-b6d0-4662-963d-887ccc340c13"
      },
      "source": [
        " plt.plot(c.iloc[0,:186])"
      ],
      "execution_count": 14,
      "outputs": [
        {
          "output_type": "execute_result",
          "data": {
            "text/plain": [
              "[<matplotlib.lines.Line2D at 0x7f4031aa1290>]"
            ]
          },
          "metadata": {
            "tags": []
          },
          "execution_count": 14
        },
        {
          "output_type": "display_data",
          "data": {
            "image/png": "[encoded data removed]",
            "text/plain": [
              "<Figure size 432x288 with 1 Axes>"
            ]
          },
          "metadata": {
            "tags": [],
            "needs_background": "light"
          }
        }
      ]
    },
    {
      "cell_type": "markdown",
      "metadata": {
        "id": "A9oXXkRcbnXB"
      },
      "source": [
        "Here is a normal beat. I don't have something particular to say on that class.  "
      ]
    },
    {
      "cell_type": "markdown",
      "metadata": {
        "id": "C9WjKpUJbnXB"
      },
      "source": [
        "Error Unknown !!"
      ]
    },
    {
      "cell_type": "code",
      "metadata": {
        "id": "xKQT2GhobnXC"
      },
      "source": [
        "def plot_hist(class_number,size,min_,bins):\n",
        "    img=train_df.loc[train_df[187]==class_number].values\n",
        "    img=img[:,min_:size]\n",
        "    img_flatten=img.flatten()\n",
        "\n",
        "    final1=np.arange(min_,size)\n",
        "    for i in range (img.shape[0]-1):\n",
        "        tempo1=np.arange(min_,size)\n",
        "        final1=np.concatenate((final1, tempo1), axis=None)\n",
        "    print(len(final1))\n",
        "    print(len(img_flatten))\n",
        "    plt.hist2d(final1,img_flatten, bins=(bins,bins),cmap=plt.cm.jet)\n",
        "    plt.show()"
      ],
      "execution_count": 15,
      "outputs": []
    },
    {
      "cell_type": "code",
      "metadata": {
        "id": "47VSe1W1bnXD",
        "colab": {
          "base_uri": "https://localhost:8080/",
          "height": 303
        },
        "outputId": "a5e00bfa-d808-45b0-bce5-d0d086bcd803"
      },
      "source": [
        "plot_hist(0,70,5,65)"
      ],
      "execution_count": 16,
      "outputs": [
        {
          "output_type": "stream",
          "text": [
            "1300000\n",
            "1300000\n"
          ],
          "name": "stdout"
        },
        {
          "output_type": "display_data",
          "data": {
            "image/png": "[encoded data removed]",
            "text/plain": [
              "<Figure size 432x288 with 1 Axes>"
            ]
          },
          "metadata": {
            "tags": [],
            "needs_background": "light"
          }
        }
      ]
    },
    {
      "cell_type": "markdown",
      "metadata": {
        "id": "9CSmVltVbnXE"
      },
      "source": [
        "Here is a representation for all the class. We take all the signal and map them. Like that we have an estimation what the signal can look like."
      ]
    },
    {
      "cell_type": "code",
      "metadata": {
        "id": "b77f000rbnXE",
        "colab": {
          "base_uri": "https://localhost:8080/",
          "height": 282
        },
        "outputId": "ca97cbd9-8bc7-457e-c69e-4a363376029c"
      },
      "source": [
        " plt.plot(c.iloc[1,:186])"
      ],
      "execution_count": 17,
      "outputs": [
        {
          "output_type": "execute_result",
          "data": {
            "text/plain": [
              "[<matplotlib.lines.Line2D at 0x7f40319904d0>]"
            ]
          },
          "metadata": {
            "tags": []
          },
          "execution_count": 17
        },
        {
          "output_type": "display_data",
          "data": {
            "image/png": "[encoded data removed]",
            "text/plain": [
              "<Figure size 432x288 with 1 Axes>"
            ]
          },
          "metadata": {
            "tags": [],
            "needs_background": "light"
          }
        }
      ]
    },
    {
      "cell_type": "code",
      "metadata": {
        "id": "bwiZKaqLbnXF",
        "colab": {
          "base_uri": "https://localhost:8080/",
          "height": 303
        },
        "outputId": "659b3fc5-49ec-4f55-cd86-1784bbb04fd2"
      },
      "source": [
        "plot_hist(1,50,5,45)"
      ],
      "execution_count": 18,
      "outputs": [
        {
          "output_type": "stream",
          "text": [
            "900000\n",
            "900000\n"
          ],
          "name": "stdout"
        },
        {
          "output_type": "display_data",
          "data": {
            "image/png": "[encoded data removed]",
            "text/plain": [
              "<Figure size 432x288 with 1 Axes>"
            ]
          },
          "metadata": {
            "tags": [],
            "needs_background": "light"
          }
        }
      ]
    },
    {
      "cell_type": "code",
      "metadata": {
        "id": "_Ok-IHh4bnXF",
        "colab": {
          "base_uri": "https://localhost:8080/",
          "height": 282
        },
        "outputId": "b482b396-7c54-45e0-ac0f-b9653d8ee06c"
      },
      "source": [
        " plt.plot(c.iloc[2,:186])"
      ],
      "execution_count": 19,
      "outputs": [
        {
          "output_type": "execute_result",
          "data": {
            "text/plain": [
              "[<matplotlib.lines.Line2D at 0x7f40318ebc50>]"
            ]
          },
          "metadata": {
            "tags": []
          },
          "execution_count": 19
        },
        {
          "output_type": "display_data",
          "data": {
            "image/png": "[encoded data removed]",
            "text/plain": [
              "<Figure size 432x288 with 1 Axes>"
            ]
          },
          "metadata": {
            "tags": [],
            "needs_background": "light"
          }
        }
      ]
    },
    {
      "cell_type": "code",
      "metadata": {
        "id": "4fQnztZsbnXG",
        "colab": {
          "base_uri": "https://localhost:8080/",
          "height": 303
        },
        "outputId": "848f712c-9380-442f-9568-b8991f720db3"
      },
      "source": [
        "plot_hist(2,50,5,45)"
      ],
      "execution_count": 20,
      "outputs": [
        {
          "output_type": "stream",
          "text": [
            "900000\n",
            "900000\n"
          ],
          "name": "stdout"
        },
        {
          "output_type": "display_data",
          "data": {
            "image/png": "[encoded data removed]",
            "text/plain": [
              "<Figure size 432x288 with 1 Axes>"
            ]
          },
          "metadata": {
            "tags": [],
            "needs_background": "light"
          }
        }
      ]
    },
    {
      "cell_type": "markdown",
      "metadata": {
        "id": "5QMSbOqVbnXH"
      },
      "source": [
        "Here is an exemple of the two classes :\n",
        "\n",
        "![4-Figure2-1.png](attachment:4-Figure2-1.png)\n",
        "\n",
        "in the second and third line you have the 2 et 3 class."
      ]
    },
    {
      "cell_type": "code",
      "metadata": {
        "id": "lHha8yjdbnXI",
        "colab": {
          "base_uri": "https://localhost:8080/",
          "height": 282
        },
        "outputId": "69ca24a5-d301-45ba-b9c6-7a0e9d5bdd13"
      },
      "source": [
        "plt.plot(c.iloc[3,:186])"
      ],
      "execution_count": 21,
      "outputs": [
        {
          "output_type": "execute_result",
          "data": {
            "text/plain": [
              "[<matplotlib.lines.Line2D at 0x7f40317c6950>]"
            ]
          },
          "metadata": {
            "tags": []
          },
          "execution_count": 21
        },
        {
          "output_type": "display_data",
          "data": {
            "image/png": "[encoded data removed]",
            "text/plain": [
              "<Figure size 432x288 with 1 Axes>"
            ]
          },
          "metadata": {
            "tags": [],
            "needs_background": "light"
          }
        }
      ]
    },
    {
      "cell_type": "code",
      "metadata": {
        "id": "dYz3zy03bnXJ",
        "colab": {
          "base_uri": "https://localhost:8080/",
          "height": 303
        },
        "outputId": "24e4db90-3d9b-4b63-8ac2-615e5bf28304"
      },
      "source": [
        "plot_hist(3,60,15,45)"
      ],
      "execution_count": 22,
      "outputs": [
        {
          "output_type": "stream",
          "text": [
            "900000\n",
            "900000\n"
          ],
          "name": "stdout"
        },
        {
          "output_type": "display_data",
          "data": {
            "image/png": "[encoded data removed]",
            "text/plain": [
              "<Figure size 432x288 with 1 Axes>"
            ]
          },
          "metadata": {
            "tags": [],
            "needs_background": "light"
          }
        }
      ]
    },
    {
      "cell_type": "markdown",
      "metadata": {
        "id": "llDR_gtybnXK"
      },
      "source": [
        "Fusion beat :\n",
        "![3-s2.0-B9780124159365000098-f09-10-9780124159365.jpg](attachment:3-s2.0-B9780124159365000098-f09-10-9780124159365.jpg)\n",
        "\n",
        "Don't really see the difference with the previous one but i'm not an expert of ECG!"
      ]
    },
    {
      "cell_type": "code",
      "metadata": {
        "id": "W1EmptdPbnXK",
        "colab": {
          "base_uri": "https://localhost:8080/",
          "height": 282
        },
        "outputId": "3f369cd8-dacb-4841-b231-0dfc1e83c29e"
      },
      "source": [
        "plt.plot(c.iloc[4,:186])"
      ],
      "execution_count": 23,
      "outputs": [
        {
          "output_type": "execute_result",
          "data": {
            "text/plain": [
              "[<matplotlib.lines.Line2D at 0x7f403172b810>]"
            ]
          },
          "metadata": {
            "tags": []
          },
          "execution_count": 23
        },
        {
          "output_type": "display_data",
          "data": {
            "image/png": "[encoded data removed]",
            "text/plain": [
              "<Figure size 432x288 with 1 Axes>"
            ]
          },
          "metadata": {
            "tags": [],
            "needs_background": "light"
          }
        }
      ]
    },
    {
      "cell_type": "markdown",
      "metadata": {
        "id": "9GhjRD2IbnXL"
      },
      "source": [
        "I will not comment a lot this one because it correspond to other class. "
      ]
    },
    {
      "cell_type": "markdown",
      "metadata": {
        "id": "IntHTfIqbnXM"
      },
      "source": [
        ""
      ]
    },
    {
      "cell_type": "code",
      "metadata": {
        "id": "geTLvOdYbnXM",
        "colab": {
          "base_uri": "https://localhost:8080/",
          "height": 303
        },
        "outputId": "26274cb5-08dd-42db-c328-c7172459e5db"
      },
      "source": [
        "plot_hist(4,50,15,35)"
      ],
      "execution_count": 24,
      "outputs": [
        {
          "output_type": "stream",
          "text": [
            "700000\n",
            "700000\n"
          ],
          "name": "stdout"
        },
        {
          "output_type": "display_data",
          "data": {
            "image/png": "[encoded data removed]",
            "text/plain": [
              "<Figure size 432x288 with 1 Axes>"
            ]
          },
          "metadata": {
            "tags": [],
            "needs_background": "light"
          }
        }
      ]
    },
    {
      "cell_type": "markdown",
      "metadata": {
        "id": "-y_bYvO2bnXN"
      },
      "source": [
        "**Pretreat**"
      ]
    },
    {
      "cell_type": "markdown",
      "metadata": {
        "id": "n2LUMMjDbnXN"
      },
      "source": [
        "In this part i will speak o n what i do to transform data. "
      ]
    },
    {
      "cell_type": "code",
      "metadata": {
        "id": "--7R0-V0bnXN"
      },
      "source": [
        "def add_gaussian_noise(signal):\n",
        "    noise=np.random.normal(0,0.5,186)\n",
        "    return (signal+noise)\n"
      ],
      "execution_count": 25,
      "outputs": []
    },
    {
      "cell_type": "markdown",
      "metadata": {
        "id": "rID6yjGnbnXO"
      },
      "source": [
        "I use a fonction ( will depend of the version) where i add a noise to the data to generilize my train."
      ]
    },
    {
      "cell_type": "code",
      "metadata": {
        "id": "7-VAm6sIbnXO",
        "colab": {
          "base_uri": "https://localhost:8080/",
          "height": 265
        },
        "outputId": "a4447218-b558-46b5-e540-ed46e6e9bc91"
      },
      "source": [
        "tempo=c.iloc[0,:186]\n",
        "bruiter=add_gaussian_noise(tempo)\n",
        "\n",
        "plt.subplot(2,1,1)\n",
        "plt.plot(c.iloc[0,:186])\n",
        "\n",
        "plt.subplot(2,1,2)\n",
        "plt.plot(bruiter)\n",
        "\n",
        "plt.show()\n",
        "\n"
      ],
      "execution_count": 26,
      "outputs": [
        {
          "output_type": "display_data",
          "data": {
            "image/png": "[encoded data removed]",
            "text/plain": [
              "<Figure size 432x288 with 2 Axes>"
            ]
          },
          "metadata": {
            "tags": [],
            "needs_background": "light"
          }
        }
      ]
    },
    {
      "cell_type": "code",
      "metadata": {
        "id": "IB3BM7tcbnXP"
      },
      "source": [
        "target_train=train_df[187]\n",
        "target_test=test_df[187]\n",
        "y_train=to_categorical(target_train)\n",
        "y_test=to_categorical(target_test)"
      ],
      "execution_count": 27,
      "outputs": []
    },
    {
      "cell_type": "code",
      "metadata": {
        "id": "BqO7fyj5bnXP"
      },
      "source": [
        "X_train=train_df.iloc[:,:186].values\n",
        "X_test=test_df.iloc[:,:186].values\n",
        "for i in range(len(X_train)):\n",
        "    X_train[i,:186]= add_gaussian_noise(X_train[i,:186])\n",
        "X_train = X_train.reshape(len(X_train), X_train.shape[1],1)\n",
        "X_test = X_test.reshape(len(X_test), X_test.shape[1],1)"
      ],
      "execution_count": 28,
      "outputs": []
    },
    {
      "cell_type": "markdown",
      "metadata": {
        "id": "QILL670ybnXQ"
      },
      "source": [
        "# More Test ON"
      ]
    },
    {
      "cell_type": "code",
      "metadata": {
        "id": "IBtLFw-cbnXQ"
      },
      "source": [
        "XX_train, XX_val, yy_train, yy_val = train_test_split(X_train, y_train, test_size=0.25, random_state=1)"
      ],
      "execution_count": 29,
      "outputs": []
    },
    {
      "cell_type": "markdown",
      "metadata": {
        "id": "B7ceLc-NbnXQ"
      },
      "source": [
        "# Network"
      ]
    },
    {
      "cell_type": "code",
      "metadata": {
        "id": "qzm8B5GtbnXR"
      },
      "source": [
        "def network(X_train,y_train,X_test,y_test):\n",
        "    \n",
        "\n",
        "    im_shape=(X_train.shape[1],1)\n",
        "    inputs_cnn=Input(shape=(im_shape), name='inputs_cnn')\n",
        "    conv1_1=Convolution1D(64, (6), activation='relu', input_shape=im_shape)(inputs_cnn)\n",
        "    conv1_1=BatchNormalization()(conv1_1)\n",
        "    pool1=MaxPool1D(pool_size=(3), strides=(2), padding=\"same\")(conv1_1)\n",
        "    conv2_1=Convolution1D(64, (3), activation='relu', input_shape=im_shape)(pool1)\n",
        "    conv2_1=BatchNormalization()(conv2_1)\n",
        "    pool2=MaxPool1D(pool_size=(2), strides=(2), padding=\"same\")(conv2_1)\n",
        "    conv3_1=Convolution1D(64, (3), activation='relu', input_shape=im_shape)(pool2)\n",
        "    conv3_1=BatchNormalization()(conv3_1)\n",
        "    pool3=MaxPool1D(pool_size=(2), strides=(2), padding=\"same\")(conv3_1)\n",
        "    flatten=Flatten()(pool3)\n",
        "    dense_end1 = Dense(64, activation='relu')(flatten)\n",
        "    dense_end2 = Dense(32, activation='relu')(dense_end1)\n",
        "    main_output = Dense(5, activation='softmax', name='main_output')(dense_end2)\n",
        "    \n",
        "    \n",
        "    model = Model(inputs= inputs_cnn, outputs=main_output)\n",
        "    model.compile(optimizer='adam', loss='categorical_crossentropy',metrics = ['accuracy'])\n",
        "     \n",
        "    \n",
        "    callbacks = [EarlyStopping(monitor='val_loss', patience=40),\n",
        "             ModelCheckpoint(filepath='best_model.h5', monitor='val_loss', save_best_only=True)]\n",
        "\n",
        "    history=model.fit(X_train, y_train,epochs=150,callbacks=callbacks, batch_size=32,validation_data=(XX_val,yy_val))\n",
        "    model.load_weights('best_model.h5')\n",
        "    return(model,history)\n",
        "   "
      ],
      "execution_count": 30,
      "outputs": []
    },
    {
      "cell_type": "code",
      "metadata": {
        "id": "0la-AgqvbnXS"
      },
      "source": [
        "def evaluate_model(history,X_test,y_test,model):\n",
        "    scores = model.evaluate((X_test),y_test, verbose=0)\n",
        "    print(\"Accuracy: %.2f%%\" % (scores[1]*100))\n",
        "    \n",
        "    print(history)\n",
        "    fig1, ax_acc = plt.subplots()\n",
        "    plt.plot(history.history['accuracy'])\n",
        "    plt.plot(history.history['val_accuracy'])\n",
        "    plt.xlabel('Epoch')\n",
        "    plt.ylabel('Accuracy')\n",
        "    plt.title('Model - Accuracy')\n",
        "    plt.legend(['Training', 'Validation'], loc='lower right')\n",
        "    plt.show()\n",
        "    \n",
        "    fig2, ax_loss = plt.subplots()\n",
        "    plt.xlabel('Epoch')\n",
        "    plt.ylabel('Loss')\n",
        "    plt.title('Model- Loss')\n",
        "    plt.legend(['Training', 'Validation'], loc='upper right')\n",
        "    plt.plot(history.history['loss'])\n",
        "    plt.plot(history.history['val_loss'])\n",
        "    plt.show()\n",
        "    target_names=['0','1','2','3','4']\n",
        "    \n",
        "    y_true=[]\n",
        "    for element in y_test:\n",
        "        y_true.append(np.argmax(element))\n",
        "    prediction_proba=model.predict(X_test)\n",
        "    prediction=np.argmax(prediction_proba,axis=1)\n",
        "    cnf_matrix = confusion_matrix(y_true, prediction)\n",
        "    "
      ],
      "execution_count": 31,
      "outputs": []
    },
    {
      "cell_type": "code",
      "metadata": {
        "scrolled": true,
        "id": "Act_dAgwbnXW",
        "colab": {
          "base_uri": "https://localhost:8080/"
        },
        "outputId": "f67ab34d-128f-4783-8199-cdb40d8d58ab"
      },
      "source": [
        "from keras.layers import Dense, Convolution1D, MaxPool1D, Flatten, Dropout\n",
        "from keras.layers import Input\n",
        "from keras.models import Model\n",
        "from keras.layers.normalization import BatchNormalization\n",
        "import keras\n",
        "from keras.callbacks import EarlyStopping, ModelCheckpoint\n",
        "\n",
        "model,history=network(X_train,y_train,X_test,y_test)"
      ],
      "execution_count": 32,
      "outputs": [
        {
          "output_type": "stream",
          "text": [
            "Epoch 1/150\n",
            "3125/3125 [==============================] - 78s 24ms/step - loss: 1.0139 - accuracy: 0.6030 - val_loss: 0.8165 - val_accuracy: 0.6902\n",
            "Epoch 2/150\n",
            "3125/3125 [==============================] - 76s 24ms/step - loss: 0.7967 - accuracy: 0.6965 - val_loss: 0.7926 - val_accuracy: 0.7017\n",
            "Epoch 3/150\n",
            "3125/3125 [==============================] - 77s 25ms/step - loss: 0.7586 - accuracy: 0.7140 - val_loss: 0.7290 - val_accuracy: 0.7248\n",
            "Epoch 4/150\n",
            "3125/3125 [==============================] - 77s 25ms/step - loss: 0.7387 - accuracy: 0.7204 - val_loss: 0.7067 - val_accuracy: 0.7338\n",
            "Epoch 5/150\n",
            "3125/3125 [==============================] - 77s 24ms/step - loss: 0.7094 - accuracy: 0.7308 - val_loss: 0.6781 - val_accuracy: 0.7441\n",
            "Epoch 6/150\n",
            "3125/3125 [==============================] - 77s 25ms/step - loss: 0.6825 - accuracy: 0.7445 - val_loss: 0.6432 - val_accuracy: 0.7598\n",
            "Epoch 7/150\n",
            "3125/3125 [==============================] - 76s 24ms/step - loss: 0.6519 - accuracy: 0.7538 - val_loss: 0.6297 - val_accuracy: 0.7602\n",
            "Epoch 8/150\n",
            "3125/3125 [==============================] - 77s 25ms/step - loss: 0.6276 - accuracy: 0.7627 - val_loss: 0.5782 - val_accuracy: 0.7841\n",
            "Epoch 9/150\n",
            "3125/3125 [==============================] - 76s 24ms/step - loss: 0.5984 - accuracy: 0.7747 - val_loss: 0.5497 - val_accuracy: 0.7960\n",
            "Epoch 10/150\n",
            "3125/3125 [==============================] - 76s 24ms/step - loss: 0.5670 - accuracy: 0.7865 - val_loss: 0.5297 - val_accuracy: 0.8015\n",
            "Epoch 11/150\n",
            "3125/3125 [==============================] - 77s 25ms/step - loss: 0.5389 - accuracy: 0.7954 - val_loss: 0.4843 - val_accuracy: 0.8206\n",
            "Epoch 12/150\n",
            "3125/3125 [==============================] - 76s 24ms/step - loss: 0.5121 - accuracy: 0.8081 - val_loss: 0.4639 - val_accuracy: 0.8289\n",
            "Epoch 13/150\n",
            "3125/3125 [==============================] - 77s 25ms/step - loss: 0.4859 - accuracy: 0.8163 - val_loss: 0.4415 - val_accuracy: 0.8394\n",
            "Epoch 14/150\n",
            "3125/3125 [==============================] - 76s 24ms/step - loss: 0.4606 - accuracy: 0.8266 - val_loss: 0.4332 - val_accuracy: 0.8384\n",
            "Epoch 15/150\n",
            "3125/3125 [==============================] - 78s 25ms/step - loss: 0.4391 - accuracy: 0.8350 - val_loss: 0.3978 - val_accuracy: 0.8552\n",
            "Epoch 16/150\n",
            "3125/3125 [==============================] - 77s 25ms/step - loss: 0.4193 - accuracy: 0.8438 - val_loss: 0.3805 - val_accuracy: 0.8599\n",
            "Epoch 17/150\n",
            "3125/3125 [==============================] - 77s 25ms/step - loss: 0.4007 - accuracy: 0.8494 - val_loss: 0.3608 - val_accuracy: 0.8684\n",
            "Epoch 18/150\n",
            "3125/3125 [==============================] - 77s 25ms/step - loss: 0.3832 - accuracy: 0.8574 - val_loss: 0.3417 - val_accuracy: 0.8755\n",
            "Epoch 19/150\n",
            "3125/3125 [==============================] - 77s 25ms/step - loss: 0.3645 - accuracy: 0.8637 - val_loss: 0.3265 - val_accuracy: 0.8812\n",
            "Epoch 20/150\n",
            "3125/3125 [==============================] - 77s 24ms/step - loss: 0.3504 - accuracy: 0.8698 - val_loss: 0.3054 - val_accuracy: 0.8911\n",
            "Epoch 21/150\n",
            "3125/3125 [==============================] - 75s 24ms/step - loss: 0.3292 - accuracy: 0.8782 - val_loss: 0.2913 - val_accuracy: 0.8926\n",
            "Epoch 22/150\n",
            "3125/3125 [==============================] - 76s 24ms/step - loss: 0.3214 - accuracy: 0.8802 - val_loss: 0.2998 - val_accuracy: 0.8890\n",
            "Epoch 23/150\n",
            "3125/3125 [==============================] - 78s 25ms/step - loss: 0.3062 - accuracy: 0.8860 - val_loss: 0.2666 - val_accuracy: 0.9044\n",
            "Epoch 24/150\n",
            "3125/3125 [==============================] - 76s 24ms/step - loss: 0.2894 - accuracy: 0.8923 - val_loss: 0.2539 - val_accuracy: 0.9084\n",
            "Epoch 25/150\n",
            "3125/3125 [==============================] - 76s 24ms/step - loss: 0.2827 - accuracy: 0.8945 - val_loss: 0.2509 - val_accuracy: 0.9094\n",
            "Epoch 26/150\n",
            "3125/3125 [==============================] - 76s 24ms/step - loss: 0.2756 - accuracy: 0.8992 - val_loss: 0.2365 - val_accuracy: 0.9140\n",
            "Epoch 27/150\n",
            "3125/3125 [==============================] - 77s 25ms/step - loss: 0.2646 - accuracy: 0.9004 - val_loss: 0.2290 - val_accuracy: 0.9181\n",
            "Epoch 28/150\n",
            "3125/3125 [==============================] - 76s 24ms/step - loss: 0.2534 - accuracy: 0.9050 - val_loss: 0.2209 - val_accuracy: 0.9214\n",
            "Epoch 29/150\n",
            "3125/3125 [==============================] - 77s 25ms/step - loss: 0.2451 - accuracy: 0.9096 - val_loss: 0.2102 - val_accuracy: 0.9253\n",
            "Epoch 30/150\n",
            "3125/3125 [==============================] - 78s 25ms/step - loss: 0.2367 - accuracy: 0.9124 - val_loss: 0.2093 - val_accuracy: 0.9246\n",
            "Epoch 31/150\n",
            "3125/3125 [==============================] - 77s 25ms/step - loss: 0.2349 - accuracy: 0.9127 - val_loss: 0.2132 - val_accuracy: 0.9236\n",
            "Epoch 32/150\n",
            "3125/3125 [==============================] - 77s 25ms/step - loss: 0.2269 - accuracy: 0.9169 - val_loss: 0.1932 - val_accuracy: 0.9302\n",
            "Epoch 33/150\n",
            "3125/3125 [==============================] - 77s 24ms/step - loss: 0.2192 - accuracy: 0.9180 - val_loss: 0.2000 - val_accuracy: 0.9266\n",
            "Epoch 34/150\n",
            "3125/3125 [==============================] - 76s 24ms/step - loss: 0.2136 - accuracy: 0.9200 - val_loss: 0.1905 - val_accuracy: 0.9309\n",
            "Epoch 35/150\n",
            "3125/3125 [==============================] - 77s 25ms/step - loss: 0.2079 - accuracy: 0.9222 - val_loss: 0.1750 - val_accuracy: 0.9383\n",
            "Epoch 36/150\n",
            "3125/3125 [==============================] - 76s 24ms/step - loss: 0.1988 - accuracy: 0.9281 - val_loss: 0.1875 - val_accuracy: 0.9319\n",
            "Epoch 37/150\n",
            "3125/3125 [==============================] - 77s 25ms/step - loss: 0.1960 - accuracy: 0.9283 - val_loss: 0.1643 - val_accuracy: 0.9426\n",
            "Epoch 38/150\n",
            "3125/3125 [==============================] - 77s 25ms/step - loss: 0.1934 - accuracy: 0.9295 - val_loss: 0.1828 - val_accuracy: 0.9352\n",
            "Epoch 39/150\n",
            "3125/3125 [==============================] - 76s 24ms/step - loss: 0.1893 - accuracy: 0.9302 - val_loss: 0.1581 - val_accuracy: 0.9452\n",
            "Epoch 40/150\n",
            "3125/3125 [==============================] - 76s 24ms/step - loss: 0.1774 - accuracy: 0.9353 - val_loss: 0.1599 - val_accuracy: 0.9434\n",
            "Epoch 41/150\n",
            "3125/3125 [==============================] - 76s 24ms/step - loss: 0.1778 - accuracy: 0.9349 - val_loss: 0.1436 - val_accuracy: 0.9490\n",
            "Epoch 42/150\n",
            "3125/3125 [==============================] - 76s 24ms/step - loss: 0.1726 - accuracy: 0.9382 - val_loss: 0.1386 - val_accuracy: 0.9500\n",
            "Epoch 43/150\n",
            "3125/3125 [==============================] - 76s 24ms/step - loss: 0.1690 - accuracy: 0.9374 - val_loss: 0.1469 - val_accuracy: 0.9477\n",
            "Epoch 44/150\n",
            "3125/3125 [==============================] - 76s 24ms/step - loss: 0.1595 - accuracy: 0.9417 - val_loss: 0.1454 - val_accuracy: 0.9470\n",
            "Epoch 45/150\n",
            "3125/3125 [==============================] - 76s 24ms/step - loss: 0.1600 - accuracy: 0.9415 - val_loss: 0.1452 - val_accuracy: 0.9498\n",
            "Epoch 46/150\n",
            "3125/3125 [==============================] - 77s 25ms/step - loss: 0.1578 - accuracy: 0.9422 - val_loss: 0.1333 - val_accuracy: 0.9526\n",
            "Epoch 47/150\n",
            "3125/3125 [==============================] - 77s 25ms/step - loss: 0.1549 - accuracy: 0.9430 - val_loss: 0.1197 - val_accuracy: 0.9583\n",
            "Epoch 48/150\n",
            "3125/3125 [==============================] - 77s 25ms/step - loss: 0.1483 - accuracy: 0.9470 - val_loss: 0.1221 - val_accuracy: 0.9578\n",
            "Epoch 49/150\n",
            "3125/3125 [==============================] - 77s 25ms/step - loss: 0.1541 - accuracy: 0.9450 - val_loss: 0.1381 - val_accuracy: 0.9478\n",
            "Epoch 50/150\n",
            "3125/3125 [==============================] - 77s 25ms/step - loss: 0.1455 - accuracy: 0.9476 - val_loss: 0.1201 - val_accuracy: 0.9572\n",
            "Epoch 51/150\n",
            "3125/3125 [==============================] - 77s 25ms/step - loss: 0.1445 - accuracy: 0.9477 - val_loss: 0.1332 - val_accuracy: 0.9512\n",
            "Epoch 52/150\n",
            "3125/3125 [==============================] - 77s 25ms/step - loss: 0.1479 - accuracy: 0.9467 - val_loss: 0.1083 - val_accuracy: 0.9628\n",
            "Epoch 53/150\n",
            "3125/3125 [==============================] - 76s 24ms/step - loss: 0.1359 - accuracy: 0.9503 - val_loss: 0.1138 - val_accuracy: 0.9594\n",
            "Epoch 54/150\n",
            "3125/3125 [==============================] - 78s 25ms/step - loss: 0.1365 - accuracy: 0.9504 - val_loss: 0.1281 - val_accuracy: 0.9558\n",
            "Epoch 55/150\n",
            "3125/3125 [==============================] - 76s 24ms/step - loss: 0.1310 - accuracy: 0.9530 - val_loss: 0.0945 - val_accuracy: 0.9679\n",
            "Epoch 56/150\n",
            "3125/3125 [==============================] - 86s 27ms/step - loss: 0.1326 - accuracy: 0.9528 - val_loss: 0.1031 - val_accuracy: 0.9638\n",
            "Epoch 57/150\n",
            "3125/3125 [==============================] - 89s 28ms/step - loss: 0.1279 - accuracy: 0.9530 - val_loss: 0.1079 - val_accuracy: 0.9604\n",
            "Epoch 58/150\n",
            "3125/3125 [==============================] - 84s 27ms/step - loss: 0.1295 - accuracy: 0.9537 - val_loss: 0.1141 - val_accuracy: 0.9601\n",
            "Epoch 59/150\n",
            "3125/3125 [==============================] - 78s 25ms/step - loss: 0.1272 - accuracy: 0.9544 - val_loss: 0.1012 - val_accuracy: 0.9642\n",
            "Epoch 60/150\n",
            "3125/3125 [==============================] - 76s 24ms/step - loss: 0.1251 - accuracy: 0.9555 - val_loss: 0.0984 - val_accuracy: 0.9658\n",
            "Epoch 61/150\n",
            "3125/3125 [==============================] - 78s 25ms/step - loss: 0.1201 - accuracy: 0.9581 - val_loss: 0.0942 - val_accuracy: 0.9666\n",
            "Epoch 62/150\n",
            "3125/3125 [==============================] - 77s 25ms/step - loss: 0.1236 - accuracy: 0.9555 - val_loss: 0.0951 - val_accuracy: 0.9664\n",
            "Epoch 63/150\n",
            "3125/3125 [==============================] - 77s 25ms/step - loss: 0.1166 - accuracy: 0.9585 - val_loss: 0.1008 - val_accuracy: 0.9633\n",
            "Epoch 64/150\n",
            "3125/3125 [==============================] - 77s 25ms/step - loss: 0.1162 - accuracy: 0.9577 - val_loss: 0.0955 - val_accuracy: 0.9648\n",
            "Epoch 65/150\n",
            "3125/3125 [==============================] - 77s 25ms/step - loss: 0.1148 - accuracy: 0.9589 - val_loss: 0.0925 - val_accuracy: 0.9676\n",
            "Epoch 66/150\n",
            "3125/3125 [==============================] - 76s 24ms/step - loss: 0.1121 - accuracy: 0.9596 - val_loss: 0.1121 - val_accuracy: 0.9604\n",
            "Epoch 67/150\n",
            "3125/3125 [==============================] - 77s 25ms/step - loss: 0.1088 - accuracy: 0.9605 - val_loss: 0.0809 - val_accuracy: 0.9720\n",
            "Epoch 68/150\n",
            "3125/3125 [==============================] - 76s 24ms/step - loss: 0.1134 - accuracy: 0.9589 - val_loss: 0.0795 - val_accuracy: 0.9729\n",
            "Epoch 69/150\n",
            "3125/3125 [==============================] - 77s 24ms/step - loss: 0.1060 - accuracy: 0.9622 - val_loss: 0.0857 - val_accuracy: 0.9699\n",
            "Epoch 70/150\n",
            "3125/3125 [==============================] - 77s 25ms/step - loss: 0.1076 - accuracy: 0.9616 - val_loss: 0.0813 - val_accuracy: 0.9725\n",
            "Epoch 71/150\n",
            "3125/3125 [==============================] - 76s 24ms/step - loss: 0.1035 - accuracy: 0.9631 - val_loss: 0.0835 - val_accuracy: 0.9706\n",
            "Epoch 72/150\n",
            "3125/3125 [==============================] - 77s 25ms/step - loss: 0.1050 - accuracy: 0.9622 - val_loss: 0.0706 - val_accuracy: 0.9755\n",
            "Epoch 73/150\n",
            "3125/3125 [==============================] - 79s 25ms/step - loss: 0.1031 - accuracy: 0.9631 - val_loss: 0.0745 - val_accuracy: 0.9727\n",
            "Epoch 74/150\n",
            "3125/3125 [==============================] - 90s 29ms/step - loss: 0.1010 - accuracy: 0.9635 - val_loss: 0.0807 - val_accuracy: 0.9712\n",
            "Epoch 75/150\n",
            "3125/3125 [==============================] - 81s 26ms/step - loss: 0.1006 - accuracy: 0.9647 - val_loss: 0.0784 - val_accuracy: 0.9720\n",
            "Epoch 76/150\n",
            "3125/3125 [==============================] - 78s 25ms/step - loss: 0.0982 - accuracy: 0.9655 - val_loss: 0.0759 - val_accuracy: 0.9749\n",
            "Epoch 77/150\n",
            "3125/3125 [==============================] - 78s 25ms/step - loss: 0.0969 - accuracy: 0.9662 - val_loss: 0.0776 - val_accuracy: 0.9726\n",
            "Epoch 78/150\n",
            "3125/3125 [==============================] - 77s 25ms/step - loss: 0.0979 - accuracy: 0.9649 - val_loss: 0.0685 - val_accuracy: 0.9772\n",
            "Epoch 79/150\n",
            "3125/3125 [==============================] - 78s 25ms/step - loss: 0.0916 - accuracy: 0.9670 - val_loss: 0.0782 - val_accuracy: 0.9727\n",
            "Epoch 80/150\n",
            "3125/3125 [==============================] - 78s 25ms/step - loss: 0.0917 - accuracy: 0.9672 - val_loss: 0.0646 - val_accuracy: 0.9788\n",
            "Epoch 81/150\n",
            "3125/3125 [==============================] - 78s 25ms/step - loss: 0.0954 - accuracy: 0.9661 - val_loss: 0.0636 - val_accuracy: 0.9785\n",
            "Epoch 82/150\n",
            "3125/3125 [==============================] - 79s 25ms/step - loss: 0.0926 - accuracy: 0.9667 - val_loss: 0.0742 - val_accuracy: 0.9750\n",
            "Epoch 83/150\n",
            "3125/3125 [==============================] - 78s 25ms/step - loss: 0.0943 - accuracy: 0.9674 - val_loss: 0.0702 - val_accuracy: 0.9759\n",
            "Epoch 84/150\n",
            "3125/3125 [==============================] - 78s 25ms/step - loss: 0.0891 - accuracy: 0.9692 - val_loss: 0.0682 - val_accuracy: 0.9772\n",
            "Epoch 85/150\n",
            "3125/3125 [==============================] - 78s 25ms/step - loss: 0.0932 - accuracy: 0.9667 - val_loss: 0.0677 - val_accuracy: 0.9764\n",
            "Epoch 86/150\n",
            "3125/3125 [==============================] - 79s 25ms/step - loss: 0.0899 - accuracy: 0.9684 - val_loss: 0.0737 - val_accuracy: 0.9751\n",
            "Epoch 87/150\n",
            "3125/3125 [==============================] - 80s 26ms/step - loss: 0.0864 - accuracy: 0.9687 - val_loss: 0.0625 - val_accuracy: 0.9791\n",
            "Epoch 88/150\n",
            "3125/3125 [==============================] - 78s 25ms/step - loss: 0.0886 - accuracy: 0.9693 - val_loss: 0.0660 - val_accuracy: 0.9778\n",
            "Epoch 89/150\n",
            "3125/3125 [==============================] - 80s 25ms/step - loss: 0.0859 - accuracy: 0.9711 - val_loss: 0.0700 - val_accuracy: 0.9752\n",
            "Epoch 90/150\n",
            "3125/3125 [==============================] - 79s 25ms/step - loss: 0.0845 - accuracy: 0.9708 - val_loss: 0.0628 - val_accuracy: 0.9792\n",
            "Epoch 91/150\n",
            "3125/3125 [==============================] - 79s 25ms/step - loss: 0.0815 - accuracy: 0.9717 - val_loss: 0.0679 - val_accuracy: 0.9764\n",
            "Epoch 92/150\n",
            "3125/3125 [==============================] - 78s 25ms/step - loss: 0.0864 - accuracy: 0.9702 - val_loss: 0.0622 - val_accuracy: 0.9785\n",
            "Epoch 93/150\n",
            "3125/3125 [==============================] - 78s 25ms/step - loss: 0.0874 - accuracy: 0.9693 - val_loss: 0.0562 - val_accuracy: 0.9820\n",
            "Epoch 94/150\n",
            "3125/3125 [==============================] - 77s 25ms/step - loss: 0.0822 - accuracy: 0.9714 - val_loss: 0.0569 - val_accuracy: 0.9817\n",
            "Epoch 95/150\n",
            "3125/3125 [==============================] - 78s 25ms/step - loss: 0.0818 - accuracy: 0.9714 - val_loss: 0.0588 - val_accuracy: 0.9806\n",
            "Epoch 96/150\n",
            "3125/3125 [==============================] - 79s 25ms/step - loss: 0.0816 - accuracy: 0.9720 - val_loss: 0.0579 - val_accuracy: 0.9800\n",
            "Epoch 97/150\n",
            "3125/3125 [==============================] - 79s 25ms/step - loss: 0.0787 - accuracy: 0.9738 - val_loss: 0.0558 - val_accuracy: 0.9808\n",
            "Epoch 98/150\n",
            "3125/3125 [==============================] - 81s 26ms/step - loss: 0.0751 - accuracy: 0.9739 - val_loss: 0.0539 - val_accuracy: 0.9824\n",
            "Epoch 99/150\n",
            "3125/3125 [==============================] - 78s 25ms/step - loss: 0.0843 - accuracy: 0.9716 - val_loss: 0.0539 - val_accuracy: 0.9818\n",
            "Epoch 100/150\n",
            "3125/3125 [==============================] - 78s 25ms/step - loss: 0.0764 - accuracy: 0.9742 - val_loss: 0.0603 - val_accuracy: 0.9802\n",
            "Epoch 101/150\n",
            "3125/3125 [==============================] - 77s 25ms/step - loss: 0.0808 - accuracy: 0.9716 - val_loss: 0.0534 - val_accuracy: 0.9816\n",
            "Epoch 102/150\n",
            "3125/3125 [==============================] - 77s 25ms/step - loss: 0.0757 - accuracy: 0.9735 - val_loss: 0.0600 - val_accuracy: 0.9798\n",
            "Epoch 103/150\n",
            "3125/3125 [==============================] - 77s 25ms/step - loss: 0.0778 - accuracy: 0.9733 - val_loss: 0.0487 - val_accuracy: 0.9833\n",
            "Epoch 104/150\n",
            "3125/3125 [==============================] - 77s 25ms/step - loss: 0.0791 - accuracy: 0.9735 - val_loss: 0.0468 - val_accuracy: 0.9846\n",
            "Epoch 105/150\n",
            "3125/3125 [==============================] - 77s 25ms/step - loss: 0.0748 - accuracy: 0.9741 - val_loss: 0.0593 - val_accuracy: 0.9815\n",
            "Epoch 106/150\n",
            "3125/3125 [==============================] - 76s 24ms/step - loss: 0.0710 - accuracy: 0.9751 - val_loss: 0.0433 - val_accuracy: 0.9861\n",
            "Epoch 107/150\n",
            "3125/3125 [==============================] - 77s 25ms/step - loss: 0.0736 - accuracy: 0.9746 - val_loss: 0.0545 - val_accuracy: 0.9809\n",
            "Epoch 108/150\n",
            "3125/3125 [==============================] - 77s 25ms/step - loss: 0.0718 - accuracy: 0.9748 - val_loss: 0.0556 - val_accuracy: 0.9816\n",
            "Epoch 109/150\n",
            "3125/3125 [==============================] - 77s 25ms/step - loss: 0.0732 - accuracy: 0.9747 - val_loss: 0.0530 - val_accuracy: 0.9824\n",
            "Epoch 110/150\n",
            "3125/3125 [==============================] - 77s 25ms/step - loss: 0.0746 - accuracy: 0.9739 - val_loss: 0.0582 - val_accuracy: 0.9798\n",
            "Epoch 111/150\n",
            "3125/3125 [==============================] - 79s 25ms/step - loss: 0.0750 - accuracy: 0.9746 - val_loss: 0.0473 - val_accuracy: 0.9847\n",
            "Epoch 112/150\n",
            "3125/3125 [==============================] - 77s 25ms/step - loss: 0.0720 - accuracy: 0.9755 - val_loss: 0.0457 - val_accuracy: 0.9856\n",
            "Epoch 113/150\n",
            "3125/3125 [==============================] - 77s 24ms/step - loss: 0.0690 - accuracy: 0.9760 - val_loss: 0.0468 - val_accuracy: 0.9844\n",
            "Epoch 114/150\n",
            "3125/3125 [==============================] - 77s 24ms/step - loss: 0.0706 - accuracy: 0.9757 - val_loss: 0.0455 - val_accuracy: 0.9845\n",
            "Epoch 115/150\n",
            "3125/3125 [==============================] - 76s 24ms/step - loss: 0.0735 - accuracy: 0.9750 - val_loss: 0.0445 - val_accuracy: 0.9857\n",
            "Epoch 116/150\n",
            "3125/3125 [==============================] - 77s 25ms/step - loss: 0.0664 - accuracy: 0.9776 - val_loss: 0.0422 - val_accuracy: 0.9865\n",
            "Epoch 117/150\n",
            "3125/3125 [==============================] - 78s 25ms/step - loss: 0.0700 - accuracy: 0.9766 - val_loss: 0.0502 - val_accuracy: 0.9836\n",
            "Epoch 118/150\n",
            "3125/3125 [==============================] - 77s 24ms/step - loss: 0.0653 - accuracy: 0.9773 - val_loss: 0.0496 - val_accuracy: 0.9836\n",
            "Epoch 119/150\n",
            "3125/3125 [==============================] - 77s 25ms/step - loss: 0.0669 - accuracy: 0.9772 - val_loss: 0.0473 - val_accuracy: 0.9844\n",
            "Epoch 120/150\n",
            "3125/3125 [==============================] - 77s 25ms/step - loss: 0.0660 - accuracy: 0.9775 - val_loss: 0.0566 - val_accuracy: 0.9807\n",
            "Epoch 121/150\n",
            "3125/3125 [==============================] - 77s 25ms/step - loss: 0.0701 - accuracy: 0.9760 - val_loss: 0.0422 - val_accuracy: 0.9860\n",
            "Epoch 122/150\n",
            "3125/3125 [==============================] - 77s 25ms/step - loss: 0.0677 - accuracy: 0.9771 - val_loss: 0.0541 - val_accuracy: 0.9815\n",
            "Epoch 123/150\n",
            "3125/3125 [==============================] - 78s 25ms/step - loss: 0.0709 - accuracy: 0.9763 - val_loss: 0.0406 - val_accuracy: 0.9865\n",
            "Epoch 124/150\n",
            "3125/3125 [==============================] - 78s 25ms/step - loss: 0.0665 - accuracy: 0.9768 - val_loss: 0.0528 - val_accuracy: 0.9820\n",
            "Epoch 125/150\n",
            "3125/3125 [==============================] - 78s 25ms/step - loss: 0.0633 - accuracy: 0.9784 - val_loss: 0.0529 - val_accuracy: 0.9840\n",
            "Epoch 126/150\n",
            "3125/3125 [==============================] - 78s 25ms/step - loss: 0.0635 - accuracy: 0.9790 - val_loss: 0.0411 - val_accuracy: 0.9872\n",
            "Epoch 127/150\n",
            "3125/3125 [==============================] - 78s 25ms/step - loss: 0.0623 - accuracy: 0.9792 - val_loss: 0.0428 - val_accuracy: 0.9859\n",
            "Epoch 128/150\n",
            "3125/3125 [==============================] - 77s 25ms/step - loss: 0.0652 - accuracy: 0.9782 - val_loss: 0.0387 - val_accuracy: 0.9872\n",
            "Epoch 129/150\n",
            "3125/3125 [==============================] - 78s 25ms/step - loss: 0.0627 - accuracy: 0.9788 - val_loss: 0.0494 - val_accuracy: 0.9830\n",
            "Epoch 130/150\n",
            "3125/3125 [==============================] - 77s 25ms/step - loss: 0.0619 - accuracy: 0.9788 - val_loss: 0.0542 - val_accuracy: 0.9811\n",
            "Epoch 131/150\n",
            "3125/3125 [==============================] - 77s 25ms/step - loss: 0.0620 - accuracy: 0.9789 - val_loss: 0.0445 - val_accuracy: 0.9861\n",
            "Epoch 132/150\n",
            "3125/3125 [==============================] - 79s 25ms/step - loss: 0.0646 - accuracy: 0.9781 - val_loss: 0.0510 - val_accuracy: 0.9820\n",
            "Epoch 133/150\n",
            "3125/3125 [==============================] - 77s 25ms/step - loss: 0.0708 - accuracy: 0.9760 - val_loss: 0.0412 - val_accuracy: 0.9863\n",
            "Epoch 134/150\n",
            "3125/3125 [==============================] - 78s 25ms/step - loss: 0.0581 - accuracy: 0.9802 - val_loss: 0.0379 - val_accuracy: 0.9877\n",
            "Epoch 135/150\n",
            "3125/3125 [==============================] - 79s 25ms/step - loss: 0.0597 - accuracy: 0.9801 - val_loss: 0.0643 - val_accuracy: 0.9791\n",
            "Epoch 136/150\n",
            "3125/3125 [==============================] - 78s 25ms/step - loss: 0.0619 - accuracy: 0.9786 - val_loss: 0.0535 - val_accuracy: 0.9824\n",
            "Epoch 137/150\n",
            "3125/3125 [==============================] - 78s 25ms/step - loss: 0.0618 - accuracy: 0.9795 - val_loss: 0.0420 - val_accuracy: 0.9862\n",
            "Epoch 138/150\n",
            "3125/3125 [==============================] - 77s 25ms/step - loss: 0.0568 - accuracy: 0.9809 - val_loss: 0.0552 - val_accuracy: 0.9816\n",
            "Epoch 139/150\n",
            "3125/3125 [==============================] - 78s 25ms/step - loss: 0.0623 - accuracy: 0.9792 - val_loss: 0.0364 - val_accuracy: 0.9872\n",
            "Epoch 140/150\n",
            "3125/3125 [==============================] - 77s 25ms/step - loss: 0.0575 - accuracy: 0.9806 - val_loss: 0.0362 - val_accuracy: 0.9882\n",
            "Epoch 141/150\n",
            "3125/3125 [==============================] - 78s 25ms/step - loss: 0.0655 - accuracy: 0.9785 - val_loss: 0.0400 - val_accuracy: 0.9869\n",
            "Epoch 142/150\n",
            "3125/3125 [==============================] - 78s 25ms/step - loss: 0.0562 - accuracy: 0.9808 - val_loss: 0.0373 - val_accuracy: 0.9886\n",
            "Epoch 143/150\n",
            "3125/3125 [==============================] - 78s 25ms/step - loss: 0.0604 - accuracy: 0.9800 - val_loss: 0.0417 - val_accuracy: 0.9854\n",
            "Epoch 144/150\n",
            "3125/3125 [==============================] - 78s 25ms/step - loss: 0.0597 - accuracy: 0.9802 - val_loss: 0.0412 - val_accuracy: 0.9866\n",
            "Epoch 145/150\n",
            "3125/3125 [==============================] - 78s 25ms/step - loss: 0.0579 - accuracy: 0.9798 - val_loss: 0.0369 - val_accuracy: 0.9881\n",
            "Epoch 146/150\n",
            "3125/3125 [==============================] - 77s 25ms/step - loss: 0.0573 - accuracy: 0.9807 - val_loss: 0.0382 - val_accuracy: 0.9877\n",
            "Epoch 147/150\n",
            "3125/3125 [==============================] - 79s 25ms/step - loss: 0.0576 - accuracy: 0.9807 - val_loss: 0.0397 - val_accuracy: 0.9878\n",
            "Epoch 148/150\n",
            "3125/3125 [==============================] - 78s 25ms/step - loss: 0.0622 - accuracy: 0.9793 - val_loss: 0.0399 - val_accuracy: 0.9866\n",
            "Epoch 149/150\n",
            "3125/3125 [==============================] - 78s 25ms/step - loss: 0.0610 - accuracy: 0.9801 - val_loss: 0.0327 - val_accuracy: 0.9892\n",
            "Epoch 150/150\n",
            "3125/3125 [==============================] - 78s 25ms/step - loss: 0.0545 - accuracy: 0.9812 - val_loss: 0.0570 - val_accuracy: 0.9833\n"
          ],
          "name": "stdout"
        }
      ]
    },
    {
      "cell_type": "markdown",
      "metadata": {
        "id": "KQARhv6z07op"
      },
      "source": [
        ""
      ]
    },
    {
      "cell_type": "code",
      "metadata": {
        "id": "WDYJnPS8bnXX",
        "colab": {
          "base_uri": "https://localhost:8080/",
          "height": 607
        },
        "outputId": "047dabe0-1536-4895-9f8d-7249f250ead1"
      },
      "source": [
        "evaluate_model(history,X_test,y_test,model)\n",
        "y_pred=model.predict(X_test)\n"
      ],
      "execution_count": 33,
      "outputs": [
        {
          "output_type": "stream",
          "text": [
            "Accuracy: 13.21%\n",
            "<tensorflow.python.keras.callbacks.History object at 0x7f40316e1e10>\n"
          ],
          "name": "stdout"
        },
        {
          "output_type": "display_data",
          "data": {
            "image/png": "[encoded data removed]",
            "text/plain": [
              "<Figure size 432x288 with 1 Axes>"
            ]
          },
          "metadata": {
            "tags": [],
            "needs_background": "light"
          }
        },
        {
          "output_type": "display_data",
          "data": {
            "image/png": "[encoded data removed]",
            "text/plain": [
              "<Figure size 432x288 with 1 Axes>"
            ]
          },
          "metadata": {
            "tags": [],
            "needs_background": "light"
          }
        }
      ]
    },
    {
      "cell_type": "markdown",
      "metadata": {
        "id": "E1080RHIbnXX"
      },
      "source": [
        "i take the next function from : https://www.kaggle.com/coni57/model-from-arxiv-1805-00794"
      ]
    },
    {
      "cell_type": "code",
      "metadata": {
        "id": "K4-evi8MbnXY",
        "colab": {
          "base_uri": "https://localhost:8080/",
          "height": 746
        },
        "outputId": "cef33594-73a9-4c67-84f8-2a23af987360"
      },
      "source": [
        "import itertools\n",
        "def plot_confusion_matrix(cm, classes,\n",
        "                          normalize=False,\n",
        "                          title='Confusion matrix',\n",
        "                          cmap=plt.cm.Blues):\n",
        "    \"\"\"\n",
        "    This function prints and plots the confusion matrix.\n",
        "    Normalization can be applied by setting `normalize=True`.\n",
        "    \"\"\"\n",
        "    if normalize:\n",
        "        cm = cm.astype('float') / cm.sum(axis=1)[:, np.newaxis]\n",
        "        print(\"Normalized confusion matrix\")\n",
        "    else:\n",
        "        print('Confusion matrix, without normalization')\n",
        "\n",
        "    plt.imshow(cm, interpolation='nearest', cmap=cmap)\n",
        "    plt.title(title)\n",
        "    plt.colorbar()\n",
        "    tick_marks = np.arange(len(classes))\n",
        "    plt.xticks(tick_marks, classes, rotation=45)\n",
        "    plt.yticks(tick_marks, classes)\n",
        "\n",
        "    fmt = '.2f' if normalize else 'd'\n",
        "    thresh = cm.max() / 2.\n",
        "    for i, j in itertools.product(range(cm.shape[0]), range(cm.shape[1])):\n",
        "        plt.text(j, i, format(cm[i, j], fmt),\n",
        "                 horizontalalignment=\"center\",\n",
        "                 color=\"white\" if cm[i, j] > thresh else \"black\")\n",
        "\n",
        "    plt.tight_layout()\n",
        "    plt.ylabel('True label')\n",
        "    plt.xlabel('Predicted label')\n",
        "\n",
        "# Compute confusion matrix\n",
        "cnf_matrix = confusion_matrix(y_test.argmax(axis=1), y_pred.argmax(axis=1))\n",
        "np.set_printoptions(precision=2)\n",
        "\n",
        "# Plot non-normalized confusion matrix\n",
        "plt.figure(figsize=(10, 10))\n",
        "plot_confusion_matrix(cnf_matrix, classes=['N', 'S', 'V', 'F', 'Q'],normalize=True,\n",
        "                      title='Confusion matrix, with normalization')\n",
        "plt.show()\n",
        "\n"
      ],
      "execution_count": 34,
      "outputs": [
        {
          "output_type": "stream",
          "text": [
            "Normalized confusion matrix\n"
          ],
          "name": "stdout"
        },
        {
          "output_type": "display_data",
          "data": {
            "image/png": "[encoded data removed]",
            "text/plain": [
              "<Figure size 720x720 with 2 Axes>"
            ]
          },
          "metadata": {
            "tags": [],
            "needs_background": "light"
          }
        }
      ]
    },
    {
      "cell_type": "markdown",
      "metadata": {
        "id": "f9_VfhLobnXZ"
      },
      "source": [
        "We underlign that two class(supraventricular and fusion) is weeker than the other. maybe due to less exemple in the starter dataset. I will try to improve in the next version."
      ]
    },
    {
      "cell_type": "code",
      "metadata": {
        "id": "UegNL-7jbnXZ"
      },
      "source": [
        ""
      ],
      "execution_count": 34,
      "outputs": []
    }
  ]
}